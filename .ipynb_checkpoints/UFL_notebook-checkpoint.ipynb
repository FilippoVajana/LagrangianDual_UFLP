{
 "cells": [
  {
   "cell_type": "markdown",
   "metadata": {},
   "source": [
    "# Uncapacitated Facility Location Problem"
   ]
  },
  {
   "cell_type": "code",
   "execution_count": 10,
   "metadata": {},
   "outputs": [],
   "source": [
    "#import and setup\n",
    "from ufl_notebook_setup import *"
   ]
  },
  {
   "cell_type": "markdown",
   "metadata": {},
   "source": [
    "## Primal Model"
   ]
  },
  {
   "cell_type": "code",
   "execution_count": 11,
   "metadata": {},
   "outputs": [],
   "source": [
    "def BuildIpProblem():\n",
    "        # problem instance\n",
    "        problem = LpProblem(\"UFL - Primal Problem (Wolsey)\", sense=LpMaximize)\n",
    "\n",
    "        # decision variables\n",
    "        x = self.dg.VAR_matrix(self.clients, self.locations, 'x', 'Binary')\n",
    "        y = self.dg.VAR_vector(self.locations, 'y', 'Binary')\n",
    "\n",
    "        # objective function\n",
    "        service_costs = [self.C[i][j] * x[i][j] for i in range(self.clients) for j in range(self.locations)]\n",
    "        fixed_costs = [self.F[j] * y[j] for j in range(self.locations)]\n",
    "        problem += lpSum(service_costs) - lpSum(fixed_costs), \"Total Costs\"\n",
    "\n",
    "        # constraints\n",
    "        for i in range(self.clients):\n",
    "            problem += lpSum([x[i][j] for j in range(self.locations)]) == 1\n",
    "        \n",
    "        for i in range(self.clients):\n",
    "            for j in range(self.locations):\n",
    "                problem += x[i][j] - y[j] <= 0"
   ]
  },
  {
   "cell_type": "markdown",
   "metadata": {},
   "source": [
    "## Relaxed Model"
   ]
  },
  {
   "cell_type": "code",
   "execution_count": 12,
   "metadata": {},
   "outputs": [],
   "source": [
    "def BuildLrProblem(u_vector):\n",
    "        \"\"\"\n",
    "        Lagrange relaxation for UFL problem as in Wolsey\n",
    "        \"\"\"\n",
    "\n",
    "        # problem instance\n",
    "        problem = LpProblem(\"UFL - Lagrange Relaxed Problem (Wolsey)\", sense=LpMaximize)\n",
    "\n",
    "        # check lagrange multipliers vector\n",
    "        if len(u_vector) != self.clients : \n",
    "            raise ValueError('Invalid u_vect size')\n",
    "\n",
    "        # decision variables    \n",
    "        x = dg.VAR_matrix(self.clients, self.locations, 'x', 'Binary')\n",
    "        y = dg.VAR_vector(self.locations, 'y', 'Binary')\n",
    "\n",
    "        # objective function\n",
    "        s_c = [(self.C[i][j] - u_vector[i]) * x[i][j] for i in range(self.clients) for j in range(self.locations)]\n",
    "        f_c = [self.F[j] * y[j] for j in range(self.locations)]\n",
    "        u_c = [u_vector[i] for i in range(self.clients)]\n",
    "\n",
    "        problem += lpSum(s_c) - lpSum(f_c) + lpSum(u_c)\n",
    "\n",
    "        # constraints\n",
    "        for i in range(self.clients):\n",
    "            for j in range(self.locations):\n",
    "                problem += x[i][j] - y[j] <= 0\n",
    "\n",
    "        return problem"
   ]
  },
  {
   "cell_type": "code",
   "execution_count": 14,
   "metadata": {},
   "outputs": [
    {
     "ename": "SyntaxError",
     "evalue": "invalid syntax (<ipython-input-14-4ac264f9fa82>, line 1)",
     "output_type": "error",
     "traceback": [
      "\u001b[1;36m  File \u001b[1;32m\"<ipython-input-14-4ac264f9fa82>\"\u001b[1;36m, line \u001b[1;32m1\u001b[0m\n\u001b[1;33m    def runner(clients_num, locations_num)\u001b[0m\n\u001b[1;37m                                          ^\u001b[0m\n\u001b[1;31mSyntaxError\u001b[0m\u001b[1;31m:\u001b[0m invalid syntax\n"
     ]
    }
   ],
   "source": [
    "def runner(clients_num=30, locations_num=2)\n",
    "    clients = clients_num\n",
    "    locations = locations_num\n",
    "    \n",
    "    # init clients revenues\n",
    "    c_matrix = Data.INT_matrix(clients, locations)\n",
    "\n",
    "    # init facilities service cost\n",
    "    f_avg_profit = (np.average(c_matrix) * clients) / locations # avg facility profit   \n",
    "    f_min_cost = f_avg_profit * 0.25\n",
    "    f_max_cost = f_avg_profit * 2\n",
    "    f_vector = Data.INT_vector(locations, f_min_cost, f_max_cost, False)\n",
    "    \n",
    "    # lagrange multipliers\n",
    "    # u_vector = Data.INT_vector(clients)\n",
    "    # u_vector = np.zeros(clients)\n",
    "    u_vector = Data.INT_vector(clients, f_min_cost, f_max_cost)\n",
    "\n",
    "    # IP problem      \n",
    "    ip_problem = ufl.BuildIpProblem()\n",
    "    print(\"Solve primal problem\")\n",
    "    solve(ip_problem, console_out=False)\n",
    "    print(f\"primal Y: {get_variable_value(ip_problem, 'y')}\")\n",
    "    print(f\"primal value: {get_objectiveFunction_value(ip_problem)}\")\n",
    "\n",
    "    # LR problem (tbn)\n",
    "    z_ip = get_objectiveFunction_value(ip_problem)\n",
    "    lr_problem = ufl.solve_subgradient_tbn(u_vector, z_ip)\n",
    "    print(lr_problem)\n",
    "\n",
    "    #plot data\n",
    "    import matplotlib.pyplot as plt\n",
    "\n",
    "    #subgradient bound improvement\n",
    "    plt.figure(1)\n",
    "    #plt.subplot(411)\n",
    "    z_subgradient = logger.d['z_lr']\n",
    "    z_ip = logger.d[\"z_ip\"]\n",
    "    plt.plot(z_subgradient, linestyle='dashed')\n",
    "    plt.plot(z_ip, color='orange')\n",
    "    plt.xlabel('Loops')\n",
    "    plt.ylabel('Bound Value')\n",
    "    plt.title('Subgradient Bound')\n",
    "    plt.grid(True)\n",
    "    #plt.show()\n",
    "\n",
    "    #subgradient step size\n",
    "    plt.figure(2)\n",
    "    #plt.subplot(412)\n",
    "    step_size = logger.d[\"step_size\"]\n",
    "    plt.plot(step_size)\n",
    "    plt.xlabel('Loops')\n",
    "    plt.ylabel('Step Size')\n",
    "    plt.title('Subgradient Step Size')\n",
    "    plt.grid(True)\n",
    "\n",
    "    #subgradient norm\n",
    "    plt.figure(3)\n",
    "    #plt.subplot(421)\n",
    "    norm = logger.d[\"norm\"]\n",
    "    plt.plot(norm)\n",
    "    plt.xlabel('Loops')\n",
    "    plt.ylabel('Square Subgradient Norm')\n",
    "    plt.title('Subgradient Norm')\n",
    "    plt.grid(True)\n",
    "\n",
    "    plt.show()"
   ]
  },
  {
   "cell_type": "code",
   "execution_count": null,
   "metadata": {},
   "outputs": [],
   "source": []
  }
 ],
 "metadata": {
  "kernelspec": {
   "display_name": "Python 3",
   "language": "python",
   "name": "python3"
  },
  "language_info": {
   "codemirror_mode": {
    "name": "ipython",
    "version": 3
   },
   "file_extension": ".py",
   "mimetype": "text/x-python",
   "name": "python",
   "nbconvert_exporter": "python",
   "pygments_lexer": "ipython3",
   "version": "3.6.5"
  }
 },
 "nbformat": 4,
 "nbformat_minor": 2
}
