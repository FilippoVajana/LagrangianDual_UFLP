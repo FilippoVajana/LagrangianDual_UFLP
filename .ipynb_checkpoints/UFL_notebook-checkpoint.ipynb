{
 "cells": [
  {
   "cell_type": "markdown",
   "metadata": {},
   "source": [
    "# Uncapacitated Facility Location Problem\n",
    "## Setup"
   ]
  },
  {
   "cell_type": "code",
   "execution_count": 1,
   "metadata": {
    "ExecuteTime": {
     "end_time": "2018-11-14T15:41:52.245576Z",
     "start_time": "2018-11-14T15:41:44.028847Z"
    },
    "scrolled": true
   },
   "outputs": [
    {
     "name": "stdout",
     "output_type": "stream",
     "text": [
      "numpy: 1.15.2\n",
      "pandas: 0.23.4\n",
      "seaborn: 0.9.0\n",
      "matplotlib: 2.2.2\n"
     ]
    }
   ],
   "source": [
    "# autoreload external files\n",
    "%reload_ext autoreload\n",
    "%autoreload 2\n",
    "\n",
    "# import custom lib\n",
    "from solver_utils import *\n",
    "from data_utils import *\n",
    "import benchmark as bnc\n",
    "#from plot import *\n",
    "\n",
    "# import lib\n",
    "from pulp import *\n",
    "import numpy as np\n",
    "print('numpy:', np.__version__)\n",
    "import pandas as pd\n",
    "print('pandas:', pd.__version__)\n",
    "import seaborn as sns\n",
    "print('seaborn:',sns.__version__)\n",
    "%matplotlib inline\n",
    "import matplotlib\n",
    "import matplotlib.pyplot as plt\n",
    "print('matplotlib:',matplotlib.__version__)\n",
    "import timeit as time\n",
    "\n",
    "# services\n",
    "Data = DataGenerator()"
   ]
  },
  {
   "cell_type": "markdown",
   "metadata": {
    "heading_collapsed": true
   },
   "source": [
    "## Primal Model"
   ]
  },
  {
   "cell_type": "code",
   "execution_count": 2,
   "metadata": {
    "ExecuteTime": {
     "end_time": "2018-11-14T15:41:52.653291Z",
     "start_time": "2018-11-14T15:41:52.250538Z"
    },
    "code_folding": [],
    "hidden": true,
    "scrolled": true
   },
   "outputs": [],
   "source": [
    "def build_primal(c_num, l_num, C, F):\n",
    "    # problem instance\n",
    "    problem = LpProblem(\"UFL - Primal Problem (Wolsey)\", sense=LpMaximize)\n",
    "\n",
    "    # decision variables\n",
    "    x = Data.VAR_matrix(c_num, l_num, 'x', 'Continuous')\n",
    "    y = Data.VAR_vector(l_num, 'y', 'Binary')\n",
    "\n",
    "    # objective function\n",
    "    profits = [C[i][j] * x[i][j] for i in range(c_num) for j in range(l_num)]\n",
    "    fixed_costs = [F[j] * y[j] for j in range(l_num)]\n",
    "    problem += lpSum(profits) - lpSum(fixed_costs)\n",
    "\n",
    "    # constraints\n",
    "    for i in range(c_num):\n",
    "        problem += lpSum([x[i][j] for j in range(l_num)]) == 1\n",
    "\n",
    "    for i in range(c_num):\n",
    "        for j in range(l_num):\n",
    "            problem += x[i][j] - y[j] <= 0\n",
    "            \n",
    "    return problem"
   ]
  },
  {
   "cell_type": "markdown",
   "metadata": {
    "heading_collapsed": true
   },
   "source": [
    "## Integer Problem"
   ]
  },
  {
   "cell_type": "code",
   "execution_count": 3,
   "metadata": {
    "ExecuteTime": {
     "end_time": "2018-11-14T15:41:52.964776Z",
     "start_time": "2018-11-14T15:41:52.661225Z"
    },
    "hidden": true,
    "scrolled": true
   },
   "outputs": [],
   "source": [
    "def build_primal_int(c_num, l_num, C, F):\n",
    "    # problem instance\n",
    "    problem = LpProblem(\"UFL - Primal Integer Relaxed Problem (Wolsey)\", sense=LpMaximize)\n",
    "\n",
    "    # decision variables\n",
    "    x = Data.VAR_matrix(c_num, l_num, 'x', 'Continuous')\n",
    "    y = Data.VAR_vector(l_num, 'y', 'Continuous')\n",
    "\n",
    "    # objective function\n",
    "    profits = [C[i][j] * x[i][j] for i in range(c_num) for j in range(l_num)]\n",
    "    fixed_costs = [F[j] * y[j] for j in range(l_num)]\n",
    "    problem += lpSum(profits) - lpSum(fixed_costs)\n",
    "\n",
    "    # constraints\n",
    "    for i in range(c_num):\n",
    "        problem += lpSum([x[i][j] for j in range(l_num)]) == 1\n",
    "\n",
    "    for i in range(c_num):\n",
    "        for j in range(l_num):\n",
    "            problem += x[i][j] - y[j] <= 0\n",
    "            \n",
    "    return problem"
   ]
  },
  {
   "cell_type": "markdown",
   "metadata": {
    "heading_collapsed": true
   },
   "source": [
    "## Lagrangian Relaxed Model"
   ]
  },
  {
   "cell_type": "code",
   "execution_count": 4,
   "metadata": {
    "ExecuteTime": {
     "end_time": "2018-11-14T15:41:53.293129Z",
     "start_time": "2018-11-14T15:41:52.970730Z"
    },
    "hidden": true,
    "scrolled": true
   },
   "outputs": [],
   "source": [
    "def build_relaxed(c_num, l_num, u_vector, C, F):\n",
    "    \"\"\"\n",
    "    Lagrange relaxation for UFL problem as in Wolsey\n",
    "    \"\"\"\n",
    "\n",
    "    # problem instance\n",
    "    problem = LpProblem(\"UFL - Lagrange Relaxed Problem (Wolsey)\", sense=LpMaximize)\n",
    "\n",
    "    # check lagrange multipliers vector\n",
    "    if len(u_vector) != c_num : \n",
    "        raise ValueError('Invalid u_vect size')\n",
    "\n",
    "    # decision variables    \n",
    "    x = Data.VAR_matrix(c_num, l_num, 'x', 'Continuous')\n",
    "    y = Data.VAR_vector(l_num, 'y', 'Binary')\n",
    "\n",
    "    # objective function\n",
    "    profits = [C[i][j] * x[i][j] for i in range(c_num) for j in range(l_num)]\n",
    "    fixed_costs = [F[j] * y[j] for j in range(l_num)]\n",
    "    l1 = [u_vector[i] for i in range(c_num)]\n",
    "    l2 = [u_vector[i] * x[i][j] for i in range(c_num) for j in range(l_num)]\n",
    "    #lagrange = [u_vector[i] * (1 - x[i][j]) for i in range(c_num) for j in range(l_num)]\n",
    "\n",
    "    problem += lpSum(profits) - lpSum(fixed_costs) + lpSum(l1) - lpSum(l2)\n",
    "\n",
    "    # constraints\n",
    "    for i in range(c_num):\n",
    "        for j in range(l_num):\n",
    "            problem += x[i][j] - y[j] <= 0\n",
    "\n",
    "    return problem"
   ]
  },
  {
   "cell_type": "markdown",
   "metadata": {
    "heading_collapsed": true
   },
   "source": [
    "## Subgradient Algorithm"
   ]
  },
  {
   "cell_type": "markdown",
   "metadata": {},
   "source": [
    "## Results"
   ]
  },
  {
   "cell_type": "markdown",
   "metadata": {},
   "source": [
    "### Initialize benchmark environment"
   ]
  },
  {
   "cell_type": "code",
   "execution_count": 5,
   "metadata": {
    "ExecuteTime": {
     "end_time": "2018-11-14T15:41:53.605609Z",
     "start_time": "2018-11-14T15:41:53.299079Z"
    },
    "scrolled": true
   },
   "outputs": [],
   "source": [
    "def init_benchmark_env():\n",
    "    # params\n",
    "    c_shapes = [(c,5) for c in range(10,50,10)]\n",
    "    l_shapes = [(50,l) for l in range(2,10,2)]\n",
    "    i_shapes = c_shapes + l_shapes #instance sizes\n",
    "    i_rep = 10 #instances for each size\n",
    "    \n",
    "    i_shapes = [(10,3), (15,5)]\n",
    "    i_rep = 3\n",
    "    \n",
    "    # init data\n",
    "    b = bnc.Benchmark()\n",
    "    i = b.build_test_instances(i_shapes, i_rep)    \n",
    "    \"\"\"\n",
    "    # save instances\n",
    "    for idx, instance in enumerate(i):\n",
    "        b.save(instance, idx)  \n",
    "        \n",
    "    # load instances\n",
    "    i = b.load()\n",
    "    \"\"\"\n",
    "    # return instances\n",
    "    return i\n",
    "    "
   ]
  },
  {
   "cell_type": "markdown",
   "metadata": {},
   "source": [
    "### Run benchmark"
   ]
  },
  {
   "cell_type": "code",
   "execution_count": 6,
   "metadata": {
    "ExecuteTime": {
     "end_time": "2018-11-14T15:41:53.950824Z",
     "start_time": "2018-11-14T15:41:53.612642Z"
    },
    "code_folding": [],
    "scrolled": false
   },
   "outputs": [],
   "source": [
    "def runner():\n",
    "    # init benchmark instances\n",
    "    instances = init_benchmark_env()\n",
    "    results = list()    \n",
    "    # run instances\n",
    "    for i in instances:        \n",
    "        # init benchmark data\n",
    "        b_data = bnc.BenchmarkResult_v2(i)\n",
    "        results.append(b_data)\n",
    "        \n",
    "        # compute cost/profits\n",
    "        #delta_cp = [np.sum(i.C[:,k]) - i.F[k] for k in range(i.l_num)]\n",
    "        #print(u\"Δ_cp =\",delta_cp, end='\\n\\n\\n')  \n",
    "        \n",
    "        # solve primal\n",
    "        time.timeit()\n",
    "        b_data = solve_primal(b_data)\n",
    "        \n",
    "        # solve integer relaxed        \n",
    "        b_data = solve_relaxed(b_data)\n",
    "        \n",
    "        # solve lagrangian dual        \n",
    "        b_data = solve_lagrangian(b_data)        \n",
    "        \n",
    "    return results"
   ]
  },
  {
   "cell_type": "markdown",
   "metadata": {},
   "source": [
    "### Plot results"
   ]
  },
  {
   "cell_type": "code",
   "execution_count": 7,
   "metadata": {
    "ExecuteTime": {
     "end_time": "2018-11-14T15:41:54.373910Z",
     "start_time": "2018-11-14T15:41:53.956280Z"
    },
    "code_folding": [
     28,
     66
    ]
   },
   "outputs": [],
   "source": [
    "sns.set(style=\"whitegrid\", palette=\"Set2\")\n",
    "plt.rcParams['figure.figsize'] = [20, 10]\n",
    "plt.rcParams['xtick.labelsize'] = 10\n",
    "plt.rcParams['ytick.labelsize'] = 10\n",
    "plt.rcParams['font.size'] = 10\n",
    "#cmap = sns.diverging_palette(10, 220, sep=80, n=7, as_cmap=True)\n",
    "cmap = sns.color_palette(\"Set2\")\n",
    "\n",
    "\n",
    "def plot_clients_demand_alloc(benchmark):\n",
    "    fig, (ax1,ax2,ax3) = plt.subplots(1,3,sharey=True)    \n",
    "    fig.suptitle('Clients Demand Allocation', fontsize=20)\n",
    "    ax1.set_title(\"Primal\")\n",
    "    ax1.set_ylabel('Clients')\n",
    "    ax2.set_title(\"Integer relaxed\") \n",
    "    ax3.set_title(\"Lagrange relaxed\")    \n",
    "    \n",
    "    sns.heatmap(benchmark.X_ip,ax=ax1,cbar=False,center=0.5,cmap=cmap,annot=True,fmt=\".1f\",linewidths=0.5)\n",
    "    sns.heatmap(benchmark.X_int,ax=ax2,cbar=False,center=0.5,cmap=cmap,annot=True,fmt=\".1f\",linewidths=0.5)\n",
    "    sns.heatmap(benchmark.X_lag,ax=ax3,cbar=False,center=0.5,cmap=cmap,annot=True,fmt=\".1f\",linewidths=0.5)\n",
    "    \n",
    "    ax1.set_ylabel('client')\n",
    "    ax1.set_xlabel('warehouse')\n",
    "    ax2.set_xlabel('warehouse')\n",
    "    ax3.set_xlabel('warehouse')\n",
    "    plt.show()\n",
    "    \n",
    "    \n",
    "def plot_warehouse_alloc(benchmark):\n",
    "    fig, (ax1,ax2,ax3) = plt.subplots(1,3)    \n",
    "    fig.suptitle('Warehouse Allocation', fontsize=20)\n",
    "    ax1.set_title(\"Primal\")\n",
    "    ax1.set_ylabel('Clients')\n",
    "    ax2.set_title(\"Integer relaxed\") \n",
    "    ax3.set_title(\"Lagrange relaxed\")    \n",
    "    \n",
    "    data = [benchmark.Y_ip, benchmark.Y_int, benchmark.Y_lag]\n",
    "    sns.heatmap([data[0]], ax=ax1, cbar=False, cmap=cmap, annot=True, fmt=\".1f\", linewidths=0.5, xticklabels=False, yticklabels=False)\n",
    "    sns.heatmap([data[1]], ax=ax2, cbar=False, cmap=cmap, annot=True, fmt=\".1f\", linewidths=0.5, xticklabels=False, yticklabels=False)\n",
    "    sns.heatmap([data[2]], ax=ax3, cbar=False, cmap=cmap, annot=True, fmt=\".1f\", linewidths=0.5, xticklabels=False, yticklabels=False)\n",
    "    \n",
    "    ax1.set_xlabel('warehouse')\n",
    "    ax2.set_xlabel('warehouse')\n",
    "    ax3.set_xlabel('warehouse')\n",
    "    plt.show()\n",
    "    \n",
    "    \n",
    "    \n",
    "def plot_subgradient(benchmark): \n",
    "    fig, ax1 = plt.subplots(1)\n",
    "    fig.suptitle('Subgradient Process', fontsize=20)\n",
    "    \n",
    "    ax1.set_ylabel('z value')    \n",
    "    ax1.set_xlabel('iteration')    \n",
    "    \n",
    "    # get data   \n",
    "    subg = np.array(benchmark.SubgradientData['z'])\n",
    "    primal = np.array([benchmark.Z_ip for i in range(len(subg))])\n",
    "    int_rel = np.array([benchmark.Z_int for i in range(len(subg))])\n",
    "    data = [subg, primal]\n",
    "    \n",
    "    # plot\n",
    "    line1 = ax1.plot(subg)\n",
    "    line3 = ax1.plot(int_rel)\n",
    "    line2 = ax1.plot(primal, linewidth=1, linestyle='--')\n",
    "    ax1.legend(('subgradient','integer relaxed','primal'),loc='best')\n",
    "    \n",
    "    plt.show()    \n",
    "    \n",
    "    \n",
    "def sinplot(flip=1):\n",
    "    x = np.linspace(0, 14, 100)\n",
    "    for i in range(1, 7):\n",
    "        plt.plot(x, np.sin(x + i * .5) * (7 - i) * flip)\n",
    "    plt.show()\n",
    "        \n",
    "        \n",
    "def plot_data(results):\n",
    "    for r in results:        \n",
    "        plot_clients_demand_alloc(r)\n",
    "        #plot_warehouse_alloc(r)\n",
    "        plot_subgradient(r)\n",
    "        \n",
    "        \n",
    "#plot_data(Results)"
   ]
  },
  {
   "cell_type": "code",
   "execution_count": 8,
   "metadata": {
    "ExecuteTime": {
     "end_time": "2018-11-14T15:42:54.879583Z",
     "start_time": "2018-11-14T15:41:54.378870Z"
    }
   },
   "outputs": [
    {
     "name": "stdout",
     "output_type": "stream",
     "text": [
      "####################\n",
      "SOLVE PRIMAL\n",
      "Z = 25.0\n",
      "Time = 0.1\n",
      "####################\n",
      "SOLVE INTEGER RELAXED\n",
      "Z = 25.000000000169987\n",
      "Time = 0.61\n",
      "####################\n",
      "SOLVE LAGRANGE DUAL\n",
      "z_best: 32.0\n",
      "z_best: 25.59459459459464\n",
      "z_best: 25.444444444444443\n",
      "Z = 25.444444444444443\n",
      "Time = 7.31\n",
      "####################\n",
      "SOLVE PRIMAL\n",
      "Z = 28.0\n",
      "Time = 0.07\n",
      "####################\n",
      "SOLVE INTEGER RELAXED\n",
      "Z = 28.000000000042988\n",
      "Time = 0.06\n",
      "####################\n",
      "SOLVE LAGRANGE DUAL\n",
      "z_best: 52.0\n",
      "z_best: 31.33333333333337\n",
      "z_best: 30.333333333333314\n",
      "Z = 30.333333333333314\n",
      "Time = 6.26\n",
      "####################\n",
      "SOLVE PRIMAL\n",
      "Z = 29.0\n",
      "Time = 0.06\n",
      "####################\n",
      "SOLVE INTEGER RELAXED\n",
      "Z = 29.00000000008501\n",
      "Time = 0.06\n",
      "####################\n",
      "SOLVE LAGRANGE DUAL\n",
      "z_best: 73.0\n",
      "z_best: 29.588235294117652\n",
      "Z = 29.588235294117652\n",
      "Time = 5.59\n",
      "####################\n",
      "SOLVE PRIMAL\n",
      "Z = 16.0\n",
      "Time = 0.09\n",
      "####################\n",
      "SOLVE INTEGER RELAXED\n",
      "Z = 16.00000000069201\n",
      "Time = 0.07\n",
      "####################\n",
      "SOLVE LAGRANGE DUAL\n",
      "z_best: 43.0\n",
      "z_best: 18.30769230769252\n",
      "z_best: 17.55878084179973\n",
      "Z = 17.55878084179973\n",
      "Time = 10.23\n",
      "####################\n",
      "SOLVE PRIMAL\n",
      "Z = 38.0\n",
      "Time = 0.08\n",
      "####################\n",
      "SOLVE INTEGER RELAXED\n",
      "Z = 38.000000000757005\n",
      "Time = 0.06\n",
      "####################\n",
      "SOLVE LAGRANGE DUAL\n",
      "z_best: 117.0\n",
      "z_best: 51.319672131147655\n",
      "z_best: 43.076369452219126\n",
      "z_best: 42.250000000000014\n",
      "z_best: 41.8958333333332\n",
      "z_best: 41.80729166666677\n",
      "z_best: 41.78515625\n",
      "z_best: 41.779622395833314\n",
      "z_best: 41.778238932291714\n",
      "z_best: 41.77789306640631\n",
      "z_best: 41.77780659993476\n",
      "z_best: 41.77778498331719\n",
      "z_best: 41.541666666728446\n",
      "z_best: 41.51822916665975\n",
      "Z = 41.51822916665975\n",
      "Time = 15.72\n",
      "####################\n",
      "SOLVE PRIMAL\n",
      "Z = 12.0\n",
      "Time = 0.11\n",
      "####################\n",
      "SOLVE INTEGER RELAXED\n",
      "Z = 12.000000000580982\n",
      "Time = 0.11\n",
      "####################\n",
      "SOLVE LAGRANGE DUAL\n",
      "z_best: 12.0\n",
      "Z = 12.0\n",
      "Time = 10.23\n"
     ]
    }
   ],
   "source": [
    "b = bnc.Benchmark()\n",
    "results = runner()"
   ]
  },
  {
   "cell_type": "code",
   "execution_count": 23,
   "metadata": {
    "ExecuteTime": {
     "end_time": "2018-11-14T16:51:59.714559Z",
     "start_time": "2018-11-14T16:51:58.842592Z"
    }
   },
   "outputs": [
    {
     "name": "stdout",
     "output_type": "stream",
     "text": [
      "dimension\n",
      "40    AxesSubplot(0.125,0.125;0.775x0.755)\n",
      "90    AxesSubplot(0.125,0.125;0.775x0.755)\n",
      "dtype: object\n"
     ]
    },
    {
     "data": {
      "image/png": "[encoded data removed]",
      "text/plain": [
       "<Figure size 1440x720 with 1 Axes>"
      ]
     },
     "metadata": {},
     "output_type": "display_data"
    },
    {
     "data": {
      "image/png": "[encoded data removed]",
      "text/plain": [
       "<Figure size 1440x720 with 1 Axes>"
      ]
     },
     "metadata": {},
     "output_type": "display_data"
    }
   ],
   "source": [
    "df = b.to_dataframe(results)\n",
    "df_r = df.loc[:,['dimension','integer_time','relaxed_time','lagrange_time']]\n",
    "print(df_r)"
   ]
  }
 ],
 "metadata": {
  "kernelspec": {
   "display_name": "Python 3",
   "language": "python",
   "name": "python3"
  },
  "language_info": {
   "codemirror_mode": {
    "name": "ipython",
    "version": 3
   },
   "file_extension": ".py",
   "mimetype": "text/x-python",
   "name": "python",
   "nbconvert_exporter": "python",
   "pygments_lexer": "ipython3",
   "version": "3.6.6"
  },
  "toc": {
   "base_numbering": 1,
   "nav_menu": {},
   "number_sections": true,
   "sideBar": true,
   "skip_h1_title": false,
   "title_cell": "Table of Contents",
   "title_sidebar": "Contents",
   "toc_cell": false,
   "toc_position": {},
   "toc_section_display": true,
   "toc_window_display": false
  }
 },
 "nbformat": 4,
 "nbformat_minor": 2
}
