{
 "cells": [
  {
   "cell_type": "markdown",
   "metadata": {},
   "source": [
    "# Uncapacitated Facility Location Problem\n",
    "## Setup"
   ]
  },
  {
   "cell_type": "code",
   "execution_count": 51,
   "metadata": {},
   "outputs": [],
   "source": [
    "# import\n",
    "from pulp import *\n",
    "from solver_utils import *\n",
    "from data_utils import *\n",
    "import numpy as np\n",
    "import matplotlib as plot\n",
    "plot.rcParams['figure.figsize'] = [20, 10]\n",
    "import seaborn\n",
    "\n",
    "# services\n",
    "Data = DataGenerator()\n",
    "Log = DataLogger()"
   ]
  },
  {
   "cell_type": "markdown",
   "metadata": {},
   "source": [
    "## Primal Model"
   ]
  },
  {
   "cell_type": "code",
   "execution_count": 52,
   "metadata": {},
   "outputs": [],
   "source": [
    "def build_primal(c_num, l_num, C, F):\n",
    "    # problem instance\n",
    "    problem = LpProblem(\"UFL - Primal Problem (Wolsey)\", sense=LpMaximize)\n",
    "\n",
    "    # decision variables\n",
    "    x = Data.VAR_matrix(c_num, l_num, 'x', 'Continuous')\n",
    "    y = Data.VAR_vector(l_num, 'y', 'Binary')\n",
    "\n",
    "    # objective function\n",
    "    service_costs = [C[i][j] * x[i][j] for i in range(c_num) for j in range(l_num)]\n",
    "    fixed_costs = [F[j] * y[j] for j in range(l_num)]\n",
    "    problem += lpSum(service_costs) - lpSum(fixed_costs), \"Total Costs\"\n",
    "\n",
    "    # constraints\n",
    "    for i in range(c_num):\n",
    "        problem += lpSum([x[i][j] for j in range(l_num)]) == 1\n",
    "\n",
    "    for i in range(c_num):\n",
    "        for j in range(l_num):\n",
    "            problem += x[i][j] - y[j] <= 0\n",
    "            \n",
    "    return problem"
   ]
  },
  {
   "cell_type": "markdown",
   "metadata": {},
   "source": [
    "## Relaxed Model"
   ]
  },
  {
   "cell_type": "code",
   "execution_count": 53,
   "metadata": {},
   "outputs": [],
   "source": [
    "def build_relaxed(c_num, l_num, u_vector, C, F):\n",
    "    \"\"\"\n",
    "    Lagrange relaxation for UFL problem as in Wolsey\n",
    "    \"\"\"\n",
    "\n",
    "    # problem instance\n",
    "    problem = LpProblem(\"UFL - Lagrange Relaxed Problem (Wolsey)\", sense=LpMaximize)\n",
    "\n",
    "    # check lagrange multipliers vector\n",
    "    if len(u_vector) != c_num : \n",
    "        raise ValueError('Invalid u_vect size')\n",
    "\n",
    "    # decision variables    \n",
    "    x = Data.VAR_matrix(c_num, l_num, 'x', 'Continuous')\n",
    "    y = Data.VAR_vector(l_num, 'y', 'Binary')\n",
    "\n",
    "    # objective function\n",
    "    s_c = [(C[i][j] - u_vector[i]) * x[i][j] for i in range(c_num) for j in range(l_num)]\n",
    "    f_c = [F[j] * y[j] for j in range(l_num)]\n",
    "    u_c = [u_vector[i] for i in range(c_num)]\n",
    "\n",
    "    problem += lpSum(s_c) - lpSum(f_c) + lpSum(u_c)\n",
    "\n",
    "    # constraints\n",
    "    for i in range(c_num):\n",
    "        for j in range(l_num):\n",
    "            problem += x[i][j] - y[j] <= 0\n",
    "\n",
    "    return problem"
   ]
  },
  {
   "cell_type": "markdown",
   "metadata": {},
   "source": [
    "## Subgradient Algorithm"
   ]
  },
  {
   "cell_type": "code",
   "execution_count": 54,
   "metadata": {},
   "outputs": [],
   "source": [
    "def run_subgradient(c_num, l_num, u_vector, z_ip, C, F):\n",
    "    # parameters\n",
    "    t_max = 100 # maximum loops w/ improvement\n",
    "    k = 1 # no improvement loop counter\n",
    "    alpha_stop = 0.05 # stop parameter\n",
    "    alpha = 2\n",
    "    z_best = np.Infinity \n",
    "\n",
    "    while True:\n",
    "        # compute best z(u)\n",
    "        p_lr = build_relaxed(c_num, l_num, u_vector, C, F)\n",
    "        solve(p_lr)\n",
    "        z_lr = get_objectiveFunction_value(p_lr)\n",
    "        Log.logData('z_lr', z_lr)\n",
    "        Log.logData('z_ip', z_ip) # simplify plotting\n",
    "\n",
    "        # compute subgradient\n",
    "        x_lr = get_variable_value(p_lr, 'x')\n",
    "        # print(f\"x_lr:\\n {x_lr}\")\n",
    "        sg = subgradient_tbn(x_lr, c_num, l_num)\n",
    "        # print(f\"subgradient vector:\\n {sg}\")\n",
    "\n",
    "        # check subgradient\n",
    "        if not np.any(sg):\n",
    "            print(f\"null subgradient:\\n {sg}\")\n",
    "            break\n",
    "\n",
    "        # compute step size            \n",
    "        step = step_tbn(alpha, z_ip, z_lr, sg)\n",
    "        Log.logData('step_size', step)\n",
    "\n",
    "        # compute new lagrange multipliers\n",
    "        u = u_vector #copy\n",
    "        u_vector = update_lagrange_tbn(u, step, sg)\n",
    "\n",
    "        # check bound\n",
    "        if z_lr < z_best:\n",
    "            z_best = z_lr\n",
    "            k = 0\n",
    "            print(f\"z_best: {z_best}\")\n",
    "            \n",
    "        # check counter\n",
    "        if k == t_max:\n",
    "            alpha = alpha / 2\n",
    "            k = 0\n",
    "            print(f\"alpha: {alpha}\")\n",
    "\n",
    "        # check stop condition\n",
    "        if alpha < alpha_stop:\n",
    "            break\n",
    "        \n",
    "        k = k + 1\n",
    "    \n",
    "    print(f\"subgradient method result: {z_best}\")\n",
    "    return z_best"
   ]
  },
  {
   "cell_type": "markdown",
   "metadata": {},
   "source": [
    "### Compute subgradient vector"
   ]
  },
  {
   "cell_type": "code",
   "execution_count": 55,
   "metadata": {},
   "outputs": [],
   "source": [
    "def subgradient_tbn(x_lr, c_num, l_num):\n",
    "    # reshape X matrix\n",
    "    x_lr = np.reshape(x_lr, (c_num, l_num)) \n",
    "\n",
    "    # compute D*x(u)\n",
    "    d_x = [sum([x_lr[i][j] for j in range(l_num)]) for i in range(c_num)]\n",
    "    # print(x_lr)\n",
    "    # print(d_x)\n",
    "\n",
    "    # d vector\n",
    "    d = np.ones(c_num)\n",
    "\n",
    "    # subgradient\n",
    "    sg = d - d_x\n",
    "    #print(f\"subgradient: \\n{sg}\")\n",
    "\n",
    "    return sg"
   ]
  },
  {
   "cell_type": "markdown",
   "metadata": {},
   "source": [
    "### Compute step size"
   ]
  },
  {
   "cell_type": "code",
   "execution_count": 56,
   "metadata": {},
   "outputs": [],
   "source": [
    "def step_tbn(alpha, z_ip, z_lr, subgradient):\n",
    "    # num = np.abs(z_ip - z_lr)\n",
    "    num = np.sqrt(np.abs(z_ip - z_lr))\n",
    "    den = (np.linalg.norm(subgradient)) ** 2\n",
    "    step = alpha * num / den\n",
    "    \n",
    "    #print(f\"step_tbn: {step}\")\n",
    "    return step"
   ]
  },
  {
   "cell_type": "markdown",
   "metadata": {},
   "source": [
    "### Compute new Lagrange multipliers vector"
   ]
  },
  {
   "cell_type": "code",
   "execution_count": 57,
   "metadata": {},
   "outputs": [],
   "source": [
    "def update_lagrange_tbn(u, step, subgradient):\n",
    "    u_next = u + step * subgradient\n",
    "\n",
    "    #print(f\"u_next_tbn: \\n{u_next}\")\n",
    "    return u_next"
   ]
  },
  {
   "cell_type": "markdown",
   "metadata": {},
   "source": [
    "## Results\n",
    "### Run"
   ]
  },
  {
   "cell_type": "code",
   "execution_count": 58,
   "metadata": {},
   "outputs": [
    {
     "name": "stdout",
     "output_type": "stream",
     "text": [
      "Solve primal problem\n",
      "primal Y:\n",
      " [0. 0. 0. 0. 0. 0. 0. 1. 0. 1.]\n",
      "primal X:\n",
      " [ 0.  0.  0.  0. -1.  0.  0.  1.  0.  1. -1.  0.  0.  0.  0.  0.  0.  1.\n",
      "  0.  1. -1.  0.  0.  0.  0.  0.  0.  1.  0.  1.  0.  0.  0.  0.  0.  0.\n",
      "  0.  0.  0.  1.  0.  0.  0. -1.  0.  0.  0.  1.  0.  1.  0.  0.  0.  0.\n",
      "  0.  0. -1.  1.  0.  1.  0.  0.  0.  0. -1.  0.  0.  1.  0.  1.  0. -1.\n",
      "  0.  0.  0.  0.  0.  1.  0.  1.  0.  0.  0.  0.  0. -1.  0.  1.  0.  1.\n",
      "  0.  0.  0.  0.  0. -1.  0.  1.  0.  1.  0.  0.  0.  0.  0.  0.  0.  1.\n",
      "  0.  0.  0.  0.  0.  0.  0.  0. -1.  1.  0.  1.  0.  0.  0.  0. -1.  0.\n",
      "  0.  1.  0.  1.  0.  0.  0.  0.  0. -1.  0.  1.  0.  1.  0.  0.  0.  0.\n",
      "  0.  0.  0.  1. -1.  1.  0.  0. -1.  0.  0.  0.  0.  1.  0.  1.  0.  0.\n",
      " -1.  0.  0.  0.  0.  1.  0.  1.  0.  0.  0.  0. -1.  0.  0.  1.  0.  1.\n",
      "  0.  0.  0.  0.  0.  0.  0.  1.  0.  0.  0. -1.  0.  0.  0.  0.  0.  1.\n",
      "  0.  1.  0.  0.  0.  0.  0.  0.  0.  1.  0.  0.  0.  0.  0.  0.  0.  0.\n",
      " -1.  1.  0.  1.  0.  0.  0. -1.  0.  0.  0.  1.  0.  1.  0.  0.  0. -1.\n",
      "  0.  0.  0.  1.  0.  1.  0.  0.  0.  0. -1.  0.  0.  1.  0.  1.  0.  0.\n",
      "  0.  0.  0.  0. -1.  1.  0.  1.  0.  0.  0.  0. -1.  0.  0.  1.  0.  1.\n",
      "  0.  0.  0.  0.  0.  0.  0.  0.  0.  1.  0.  0.  0.  0.  0.  0.  0.  0.\n",
      "  0.  1.  0.  0.  0.  0.  0.  0. -1.  1.  0.  1.  0.  0.  0. -1.  0.  0.\n",
      "  0.  1.  0.  1.  0.  0.  0.  0.  0.  0.  0.  0.  0.  1.  0.  0.  0.  0.\n",
      " -1.  0.  0.  1.  0.  1.  0.  0. -1.  0.  0.  0.  0.  1.  0.  1.  0.  0.\n",
      "  0.  0.  0.  0.  0.  0.  0.  1. -1.  0.  0.  0.  0.  0.  0.  1.  0.  1.\n",
      "  0.  0.  0.  0.  0.  0.  0.  0.  0.  1.  0.  0.  0.  0. -1.  0.  0.  1.\n",
      "  0.  1.  0.  0. -1.  0.  0.  0.  0.  1.  0.  1.  0.  0.  0.  0. -1.  0.\n",
      "  0.  1.  0.  1.  0. -1.  0.  0.  0.  0.  0.  1.  0.  1.  0.  0.  0.  0.\n",
      "  0.  0. -1.  1.  0.  1.  0.  0.  0.  0. -1.  0.  0.  1.  0.  1. -1.  0.\n",
      "  0.  0.  0.  0.  0.  1.  0.  1.  0.  0.  0.  0.  0.  0.  0.  0.  0.  1.\n",
      "  0.  0.  0.  0.  0.  0.  0.  0.  0.  1.  0.  0.  0.  0. -1.  0.  0.  1.\n",
      "  0.  1.  0.  0.  0.  0. -1.  0.  0.  1.  0.  1.  0.  0.  0.  0.  0.  0.\n",
      " -1.  1.  0.  1.  0.  0.  0.  0.  0.  0.  0.  0.  0.  1.  0. -1.  0.  0.\n",
      "  0.  0.  0.  1.  0.  1.  0.  0.  0.  0.  0.  0. -1.  1.  0.  1.  0.  0.\n",
      "  0.  0. -1.  0.  0.  1.  0.  1.  0. -1.  0.  0.  0.  0.  0.  1.  0.  1.\n",
      "  0.  0. -1.  0.  0.  0.  0.  1.  0.  1.  0.  0.  0.  0.  0.  0.  0.  0.\n",
      "  0.  1.  0.  0.  0.  0.  0.  0.  0.  0.  0.  1.  0.  0.  0.  0. -1.  0.\n",
      "  0.  1.  0.  1.  0.  0.  0. -1.  0.  0.  0.  1.  0.  1. -1.  0.  0.  0.\n",
      "  0.  0.  0.  1.  0.  1. -1.  0.  0.  0.  0.  0.  0.  1.  0.  1.  0.  0.\n",
      "  0.  0.  0.  0. -1.  1.  0.  1.  0.  0.  0.  0.  0. -1.  0.  1.  0.  1.\n",
      "  0.  0.  0.  0. -1.  0.  0.  1.  0.  1.  0.  0.  0.  0.  0.  0.  0.  0.\n",
      "  0.  1.  0.  0.  0.  0.  0.  0.  0.  1.  0.  0.  0.  0.  0. -1.  0.  0.\n",
      "  0.  1.  0.  1.  0.  0.  0.  0.  0.  0.  0.  0.  0.  1.  0.  0.  0.  0.\n",
      "  0.  0.  0.  0.  0.  1.  0. -1.  0.  0.  0.  0.  0.  1.  0.  1.  0.  0.\n",
      "  0.  0. -1.  0.  0.  1.  0.  1.  0.  0.  0.  0.  0.  0.  0.  1.  0.  0.\n",
      "  0.  0.  0.  0.  0.  0.  0.  1.  0.  0. -1.  0.  0.  0.  0.  0.  0.  1.\n",
      "  0.  1.  0.  0.  0.  0.  0.  0.  0.  1.  0.  0.  0.  0.  0.  0. -1.  0.\n",
      "  0.  1.  0.  1.  0.  0.  0. -1.  0.  0.  0.  1.  0.  1.  0. -1.  0.  0.\n",
      "  0.  0.  0.  1.  0.  1.  0. -1.  0.  0.  0.  0.  0.  1.  0.  1.  0.  0.\n",
      "  0.  0.  0.  0. -1.  1.  0.  1.  0.  0.  0.  0.  0.  0. -1.  1.  0.  1.\n",
      "  0.  0. -1.  0.  0.  0.  0.  1.  0.  1.  0.  0.  0.  0.  0.  0.  0.  0.\n",
      "  0.  1.  0.  0.  0.  0.  0.  0.  0.  1.  0.  0.  0. -1.  0.  0.  0.  0.\n",
      "  0.  1.  0.  1.  0. -1.  0.  0.  0.  0.  0.  1.  0.  1.  0.  0.  0.  0.\n",
      "  0.  0. -1.  1.  0.  1.  0.  0.  0. -1.  0.  0.  0.  1.  0.  1.  0.  0.\n",
      "  0.  0.  0.  0. -1.  1.  0.  1.  0.  0.  0.  0.  0.  0.  0.  1.  0.  0.\n",
      "  0.  0.  0.  0. -1.  0.  0.  1.  0.  1. -1.  0.  0.  0.  0.  0.  0.  1.\n",
      "  0.  1.  0.  0.  0.  0. -1.  0.  0.  1.  0.  1.  0.  0.  0. -1.  0.  0.\n",
      "  0.  1.  0.  1.  0.  0.  0.  0.  0.  0. -1.  1.  0.  1.  0.  0. -1.  0.\n",
      "  0.  0.  0.  1.  0.  1.  0.  0.  0. -1.  0.  0.  0.  1.  0.  1. -1.  0.\n",
      "  0.  0.  0.  0.  0.  1.  0.  1. -1.  0.  0.  0.  0.  0.  0.  1.  0.  1.\n",
      "  0.  0.  0.  0.  0.  0.  0.  1.  0.  0.]\n",
      "primal value: 315.0\n",
      "\n",
      "Solve relaxed problem\n",
      "z_best: 368.0\n",
      "alpha: 1.0\n",
      "alpha: 0.5\n",
      "alpha: 0.25\n",
      "alpha: 0.125\n",
      "alpha: 0.0625\n",
      "alpha: 0.03125\n",
      "subgradient method result: 368.0\n"
     ]
    }
   ],
   "source": [
    "def runner(c_num=10, l_num=2):    \n",
    "    # init c_num revenues\n",
    "    C = Data.INT_matrix(c_num, l_num, False)\n",
    "\n",
    "    # init facilities service cost\n",
    "    f_avg_profit = np.average(C) # avg facility profit   \n",
    "    f_min_cost = f_avg_profit * c_num / 2\n",
    "    f_max_cost = f_avg_profit * c_num * 2\n",
    "    F = Data.INT_vector(l_num, f_min_cost, f_max_cost, False)\n",
    "    # F = Data.INT_vector(l_num, False)\n",
    "    \n",
    "    # lagrange multipliers\n",
    "    # u_vector = Data.INT_vector(c_num)\n",
    "    u_vector = np.zeros(c_num)\n",
    "    # u_vector = Data.INT_vector(c_num, f_min_cost, f_max_cost, False)\n",
    "\n",
    "    \n",
    "    #print(f\"C:\\n {C}\")\n",
    "    #print(f\"F:\\n {F}\")\n",
    "    \n",
    "    # IP problem      \n",
    "    ip_problem = build_primal(c_num, l_num, C, F)\n",
    "    print(\"Solve primal problem\")\n",
    "    solve(ip_problem, console_out=False)\n",
    "    print(f\"primal Y:\\n {get_variable_value(ip_problem, 'y')}\")\n",
    "    print(f\"primal X:\\n {get_variable_value(ip_problem, 'x')}\")\n",
    "    print(f\"primal value: {get_objectiveFunction_value(ip_problem)}\")\n",
    "    print()\n",
    "    \n",
    "    # LR problem (tbn)\n",
    "    z_ip = get_objectiveFunction_value(ip_problem)\n",
    "    print(\"Solve relaxed problem\")\n",
    "    lr_problem = run_subgradient(c_num, l_num, u_vector, z_ip, C, F)\n",
    "\n",
    "# Run command\n",
    "runner(100, 10)"
   ]
  },
  {
   "cell_type": "markdown",
   "metadata": {},
   "source": [
    "### Plot results"
   ]
  },
  {
   "cell_type": "code",
   "execution_count": 59,
   "metadata": {},
   "outputs": [
    {
     "data": {
      "image/png": "[encoded data removed]",
      "text/plain": [
       "<Figure size 1440x720 with 1 Axes>"
      ]
     },
     "metadata": {},
     "output_type": "display_data"
    },
    {
     "data": {
      "image/png": "[encoded data removed]",
      "text/plain": [
       "<Figure size 1440x720 with 1 Axes>"
      ]
     },
     "metadata": {},
     "output_type": "display_data"
    }
   ],
   "source": [
    "def plot_run_results():\n",
    "    # subgradient bound improvement\n",
    "    plt.figure(1)\n",
    "    #plt.subplot(411)\n",
    "    z_subgradient = Log.d['z_lr']\n",
    "    z_ip = Log.d[\"z_ip\"]\n",
    "    plt.plot(z_subgradient, linestyle='dashed')\n",
    "    plt.plot(z_ip, color='orange')\n",
    "    plt.xlabel('Loop')\n",
    "    plt.ylabel('Objective Function Value')\n",
    "    plt.title('Subgradient Method')\n",
    "    plt.grid(True)\n",
    "    #plt.show()\n",
    "\n",
    "    # subgradient step size\n",
    "    plt.figure(2)\n",
    "    #plt.subplot(412)\n",
    "    step_size = Log.d[\"step_size\"]\n",
    "    plt.plot(step_size)\n",
    "    plt.xlabel('Loop')\n",
    "    plt.ylabel('Step Size')\n",
    "    plt.title('Subgradient Step Size')\n",
    "    plt.grid(True)\n",
    "\n",
    "    plt.show()\n",
    "\n",
    "# Plot results command\n",
    "plot_run_results()"
   ]
  },
  {
   "cell_type": "code",
   "execution_count": 60,
   "metadata": {},
   "outputs": [],
   "source": [
    "# Clean up run data\n",
    "Log.d.clear()"
   ]
  },
  {
   "cell_type": "code",
   "execution_count": null,
   "metadata": {},
   "outputs": [],
   "source": []
  }
 ],
 "metadata": {
  "kernelspec": {
   "display_name": "Python 3",
   "language": "python",
   "name": "python3"
  },
  "language_info": {
   "codemirror_mode": {
    "name": "ipython",
    "version": 3
   },
   "file_extension": ".py",
   "mimetype": "text/x-python",
   "name": "python",
   "nbconvert_exporter": "python",
   "pygments_lexer": "ipython3",
   "version": "3.6.5"
  },
  "toc": {
   "base_numbering": 1,
   "nav_menu": {},
   "number_sections": true,
   "sideBar": true,
   "skip_h1_title": false,
   "title_cell": "Table of Contents",
   "title_sidebar": "Contents",
   "toc_cell": false,
   "toc_position": {},
   "toc_section_display": true,
   "toc_window_display": false
  }
 },
 "nbformat": 4,
 "nbformat_minor": 2
}
