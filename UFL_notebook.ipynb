{
 "cells": [
  {
   "cell_type": "markdown",
   "metadata": {},
   "source": [
    "# Uncapacitated Facility Location Problem\n",
    "## Setup"
   ]
  },
  {
   "cell_type": "code",
   "execution_count": 248,
   "metadata": {},
   "outputs": [],
   "source": [
    "# import\n",
    "from pulp import *\n",
    "from solver_utils import *\n",
    "from data_utils import *\n",
    "import numpy as np\n",
    "\n",
    "%matplotlib inline\n",
    "import seaborn\n",
    "import matplotlib.pyplot as plt\n",
    "plt.rcParams['figure.figsize'] = [15, 7]\n",
    "plt.rcParams['xtick.labelsize'] = 10\n",
    "plt.rcParams['ytick.labelsize'] = 10\n",
    "plt.rcParams['font.size'] = 12\n",
    "plt.style.use('seaborn-white')\n",
    "\n",
    "# services\n",
    "Data = DataGenerator()\n",
    "Log = DataLogger()"
   ]
  },
  {
   "cell_type": "markdown",
   "metadata": {},
   "source": [
    "## Primal Model"
   ]
  },
  {
   "cell_type": "code",
   "execution_count": 249,
   "metadata": {},
   "outputs": [],
   "source": [
    "def build_primal(c_num, l_num, C, F):\n",
    "    # problem instance\n",
    "    problem = LpProblem(\"UFL - Primal Problem (Wolsey)\", sense=LpMaximize)\n",
    "\n",
    "    # decision variables\n",
    "    x = Data.VAR_matrix(c_num, l_num, 'x', 'Continuous')\n",
    "    y = Data.VAR_vector(l_num, 'y', 'Binary')\n",
    "\n",
    "    # objective function\n",
    "    profits = [C[i][j] * x[i][j] for i in range(c_num) for j in range(l_num)]\n",
    "    fixed_costs = [F[j] * y[j] for j in range(l_num)]\n",
    "    problem += lpSum(profits) - lpSum(fixed_costs)\n",
    "\n",
    "    # constraints\n",
    "    for i in range(c_num):\n",
    "        problem += lpSum([x[i][j] for j in range(l_num)]) == 1\n",
    "\n",
    "    for i in range(c_num):\n",
    "        for j in range(l_num):\n",
    "            problem += x[i][j] - y[j] <= 0\n",
    "            \n",
    "    return problem"
   ]
  },
  {
   "cell_type": "markdown",
   "metadata": {},
   "source": [
    "## Relaxed Model"
   ]
  },
  {
   "cell_type": "code",
   "execution_count": 250,
   "metadata": {},
   "outputs": [],
   "source": [
    "def build_relaxed(c_num, l_num, u_vector, C, F):\n",
    "    \"\"\"\n",
    "    Lagrange relaxation for UFL problem as in Wolsey\n",
    "    \"\"\"\n",
    "\n",
    "    # problem instance\n",
    "    problem = LpProblem(\"UFL - Lagrange Relaxed Problem (Wolsey)\", sense=LpMaximize)\n",
    "\n",
    "    # check lagrange multipliers vector\n",
    "    if len(u_vector) != c_num : \n",
    "        raise ValueError('Invalid u_vect size')\n",
    "\n",
    "    # decision variables    \n",
    "    x = Data.VAR_matrix(c_num, l_num, 'x', 'Continuous')\n",
    "    y = Data.VAR_vector(l_num, 'y', 'Binary')\n",
    "\n",
    "    # objective function\n",
    "    profits = [C[i][j] * x[i][j] for i in range(c_num) for j in range(l_num)]\n",
    "    fixed_costs = [F[j] * y[j] for j in range(l_num)]\n",
    "    lagrange = [u_vector[i] * (1 - x[i][j]) for i in range(c_num) for j in range(l_num)]\n",
    "\n",
    "    problem += lpSum(profits) - lpSum(fixed_costs) + lpSum(lagrange)\n",
    "\n",
    "    # constraints\n",
    "    for i in range(c_num):\n",
    "        for j in range(l_num):\n",
    "            problem += x[i][j] - y[j] <= 0\n",
    "\n",
    "    return problem"
   ]
  },
  {
   "cell_type": "markdown",
   "metadata": {},
   "source": [
    "## Subgradient Algorithm"
   ]
  },
  {
   "cell_type": "code",
   "execution_count": 251,
   "metadata": {},
   "outputs": [],
   "source": [
    "def run_subgradient(c_num, l_num, u_vector, z_ip, C, F):\n",
    "    # parameters\n",
    "    t_max = c_num # maximum loops w/ improvement\n",
    "    k = 1 # no improvement loop counter\n",
    "    alpha_stop = 0.05 # stop parameter\n",
    "    alpha = 2\n",
    "    z_best = np.Infinity\n",
    "    p_lr_best = None\n",
    "\n",
    "    while True:\n",
    "        # compute best z(u)\n",
    "        p_lr = build_relaxed(c_num, l_num, u_vector, C, F)\n",
    "        solve(p_lr)\n",
    "        z_lr = get_objectiveFunction_value(p_lr)\n",
    "        Log.logData('z_lr', z_lr)\n",
    "        Log.logData('z_ip', z_ip) # simplify plotting\n",
    "\n",
    "        # compute subgradient\n",
    "        x_lr = get_variable_value(p_lr, 'x')\n",
    "        # print(f\"x_lr:\\n {x_lr}\")\n",
    "        sg = subgradient_tbn(x_lr, c_num, l_num)\n",
    "        # print(f\"subgradient vector:\\n {sg}\")\n",
    "\n",
    "        # check subgradient\n",
    "        if not np.any(sg):\n",
    "            print(f\"null subgradient:\\n {sg}\")\n",
    "            p_lr_best = p_lr\n",
    "            break\n",
    "\n",
    "        # compute step size            \n",
    "        step = step_tbn(alpha, z_ip, z_lr, sg)\n",
    "        \n",
    "        # compute new lagrange multipliers\n",
    "        u = u_vector #copy\n",
    "        u_vector = update_lagrange_tbn(u, step, sg)\n",
    "\n",
    "        # check bound\n",
    "        if round(z_lr, 3) < round(z_best, 3):\n",
    "            z_best = z_lr\n",
    "            p_lr_best = p_lr\n",
    "            k = 0\n",
    "            print(f\"z_best: {z_best}\")\n",
    "            \n",
    "        # check counter\n",
    "        if k == t_max:\n",
    "            alpha = alpha / 2\n",
    "            k = 0\n",
    "            print(f\"alpha: {alpha}\")\n",
    "\n",
    "        # check stop condition\n",
    "        if alpha < alpha_stop:\n",
    "            break\n",
    "        \n",
    "        k = k + 1\n",
    "    return (z_best, p_lr_best)"
   ]
  },
  {
   "cell_type": "markdown",
   "metadata": {},
   "source": [
    "### Compute subgradient vector"
   ]
  },
  {
   "cell_type": "code",
   "execution_count": 252,
   "metadata": {},
   "outputs": [],
   "source": [
    "def subgradient_tbn(x_lr, c_num, l_num):\n",
    "    # reshape X matrix\n",
    "    x_lr = np.reshape(x_lr, (c_num, l_num)) \n",
    "\n",
    "    # compute D*x(u)\n",
    "    d_x = [sum([x_lr[i][j] for j in range(l_num)]) for i in range(c_num)]\n",
    "    # print(x_lr)\n",
    "    # print(d_x)\n",
    "\n",
    "    # d vector\n",
    "    d = np.ones(c_num)\n",
    "\n",
    "    # subgradient\n",
    "    sg = d - d_x\n",
    "    #print(f\"subgradient: \\n{sg}\")\n",
    "\n",
    "    return sg"
   ]
  },
  {
   "cell_type": "markdown",
   "metadata": {},
   "source": [
    "### Compute step size"
   ]
  },
  {
   "cell_type": "code",
   "execution_count": 253,
   "metadata": {},
   "outputs": [],
   "source": [
    "def step_tbn(alpha, z_ip, z_lr, subgradient):\n",
    "    num = np.cbrt(np.abs(z_ip - z_lr))\n",
    "    den = (np.linalg.norm(subgradient)) ** 2\n",
    "    step = alpha * num / den\n",
    "    \n",
    "    # log data\n",
    "    Log.logData('step_size', step)\n",
    "    Log.logData('alpha', alpha)\n",
    "\n",
    "    #print(f\"step_tbn: {step}\")\n",
    "    return step"
   ]
  },
  {
   "cell_type": "markdown",
   "metadata": {},
   "source": [
    "### Compute new Lagrange multipliers vector"
   ]
  },
  {
   "cell_type": "code",
   "execution_count": 254,
   "metadata": {},
   "outputs": [],
   "source": [
    "def update_lagrange_tbn(u, step, subgradient):\n",
    "    u_next = u + step * subgradient\n",
    "\n",
    "    #print(f\"u_next_tbn: \\n{u_next}\")\n",
    "    return u_next"
   ]
  },
  {
   "cell_type": "markdown",
   "metadata": {},
   "source": [
    "## Results\n",
    "### Run"
   ]
  },
  {
   "cell_type": "code",
   "execution_count": 255,
   "metadata": {},
   "outputs": [
    {
     "name": "stdout",
     "output_type": "stream",
     "text": [
      "####################\n",
      "SOLVE PRIMAL PROBLEM\n",
      "pY = [0. 0. 0. 0. 0. 1. 0. 0. 0. 1.]\n",
      "pZ = 168.0\n",
      "####################\n",
      "\n",
      "\n",
      "####################\n",
      "SOLVE RELAXED PROBLEM\n",
      "z_best: 211.0\n",
      "z_best: 196.9864077584519\n",
      "z_best: 184.69906074068842\n",
      "z_best: 174.47498622374053\n",
      "z_best: 167.01955203516673\n",
      "z_best: 163.0457931884655\n",
      "z_best: 156.22683487671975\n",
      "z_best: 147.12719085454\n",
      "z_best: 136.11381927726984\n",
      "z_best: 123.42968515138764\n",
      "z_best: 109.2475411098302\n",
      "z_best: 93.69736397834168\n",
      "z_best: 79.23429682216354\n",
      "z_best: 68.08223740605717\n",
      "z_best: 57.38515770368974\n",
      "z_best: 49.704628983226996\n",
      "z_best: 41.850297379566705\n",
      "z_best: 33.825845205083375\n",
      "z_best: 25.634731800166374\n",
      "z_best: 17.280215073546643\n",
      "z_best: 8.76537024595647\n",
      "z_best: 0.0931062460724783\n",
      "z_best: -8.300364907607275\n",
      "z_best: -13.90762976571006\n",
      "z_best: -19.573721981099112\n",
      "z_best: -25.298043234250343\n",
      "z_best: -31.0800130377039\n",
      "z_best: -36.91906786923886\n",
      "z_best: -42.81466036289851\n",
      "z_best: -48.76625855291954\n",
      "z_best: -54.77334516621366\n",
      "z_best: -59.890277973000806\n",
      "z_best: -63.3806406071452\n",
      "z_best: -66.88873247338768\n",
      "z_best: -70.41446486890716\n",
      "z_best: -73.957750406851\n",
      "z_best: -77.5185029842787\n",
      "z_best: -81.09663775087132\n",
      "z_best: -84.69207107906425\n",
      "z_best: -88.30472053484344\n",
      "z_best: -91.93450484975801\n",
      "z_best: -95.58134389366138\n",
      "z_best: -99.24515864844298\n",
      "z_best: -102.92587118250552\n",
      "z_best: -106.62340462627716\n",
      "z_best: -110.33768314810642\n",
      "z_best: -114.06863193129846\n",
      "z_best: -117.8161771516287\n",
      "z_best: -121.5802459556196\n",
      "z_best: -125.36076643951782\n",
      "z_best: -128.57883381437185\n",
      "z_best: -130.24603007057317\n",
      "z_best: -131.91634449853152\n",
      "z_best: -133.58977129887438\n",
      "z_best: -135.26630470438394\n",
      "z_best: -136.94593897981417\n",
      "z_best: -138.62866842153934\n",
      "z_best: -140.31448735726605\n",
      "z_best: -142.0033901457586\n",
      "z_best: -143.69537117653914\n",
      "z_best: -145.390424869672\n",
      "z_best: -147.08854567535099\n",
      "z_best: -148.78972807376132\n",
      "z_best: -150.49396657481648\n",
      "z_best: -152.20125571774673\n",
      "z_best: -153.91159007100083\n",
      "z_best: -155.624964231908\n",
      "z_best: -157.3413728263917\n",
      "z_best: -159.06081050879575\n",
      "z_best: -160.7832719616299\n",
      "z_best: -162.50875189523993\n",
      "z_best: -164.2372450476335\n",
      "z_best: -165.96874618423732\n",
      "z_best: -167.7032500976551\n",
      "z_best: -169.44075160741215\n",
      "z_best: -171.18124555973142\n",
      "z_best: -172.92472682732569\n",
      "z_best: -174.67119030915964\n",
      "z_best: -176.42063093022261\n",
      "z_best: -178.17304364130675\n",
      "z_best: -179.92842341879066\n",
      "z_best: -181.68676526444315\n",
      "z_best: -183.4480642051701\n",
      "z_best: -185.2123152928486\n",
      "z_best: -186.97951360408126\n",
      "z_best: -188.7496542400258\n",
      "z_best: -190.52273232615892\n",
      "z_best: -192.29874301209543\n",
      "z_best: -194.07768147138955\n",
      "z_best: -195.85954290132932\n",
      "z_best: -197.64432252274713\n",
      "z_best: -199.43201557983502\n",
      "z_best: -201.22261733993852\n",
      "z_best: -203.01612309338992\n",
      "z_best: -204.8125281533043\n",
      "z_best: -206.61182785541607\n",
      "z_best: -208.41401755786654\n",
      "z_best: -210.2190926410636\n",
      "z_best: -212.0270485074861\n",
      "z_best: -213.83788058147985\n",
      "z_best: -215.6515843091563\n",
      "z_best: -217.4681551581516\n",
      "z_best: -217.99999999999937\n",
      "alpha: 1.0\n",
      "alpha: 0.5\n",
      "alpha: 0.25\n",
      "alpha: 0.125\n",
      "alpha: 0.0625\n",
      "alpha: 0.03125\n",
      "rY = [1. 1. 1. 1. 1. 1. 1. 1. 1. 1.]\n",
      "rZ = -217.99999999999937\n",
      "####################\n",
      "\n",
      "\n"
     ]
    }
   ],
   "source": [
    "def runner(c_num=10, l_num=2):    \n",
    "    # init c_num revenues\n",
    "    C = Data.INT_matrix(c_num, l_num, False)\n",
    "\n",
    "    # init facilities service cost\n",
    "    f_avg_profit = np.average(C) # avg facility profit   \n",
    "    f_min_cost = f_avg_profit\n",
    "    f_max_cost = f_avg_profit * c_num * 2\n",
    "    F = Data.INT_vector(l_num, f_min_cost, f_max_cost, False)\n",
    "    # F = Data.INT_vector(l_num, False)\n",
    "    \n",
    "    # lagrange multipliers\n",
    "    #u_vector = Data.INT_vector(c_num)\n",
    "    u_vector = np.zeros(c_num)\n",
    "    #u_vector = Data.INT_vector(c_num, f_min_cost, f_max_cost, False)\n",
    "\n",
    "    \n",
    "    #print(f\"C:\\n {C}\")\n",
    "    #print(f\"F:\\n {F}\")\n",
    "    \n",
    "    # IP problem      \n",
    "    ip_problem = build_primal(c_num, l_num, C, F)\n",
    "    print(\"####################\")\n",
    "    print(\"SOLVE PRIMAL PROBLEM\")\n",
    "    \n",
    "    solve(ip_problem, console_out=False)\n",
    "    pY = get_variable_value(ip_problem, 'y')\n",
    "    pX = get_variable_value(ip_problem, 'x').reshape(c_num, l_num)\n",
    "    pZ = get_objectiveFunction_value(ip_problem)    \n",
    "    print(f\"pY = {pY}\")\n",
    "    #print(f\"pX = \\n {pX}\")\n",
    "    print(f\"pZ = {pZ}\")\n",
    "    print(\"####################\\n\\n\")\n",
    "    \n",
    "    \n",
    "    \n",
    "    # LR problem (tbn)\n",
    "    print(\"####################\")\n",
    "    print(\"SOLVE RELAXED PROBLEM\")    \n",
    "    \n",
    "    (rZ, rP) = run_subgradient(c_num, l_num, u_vector, pZ, C, F)\n",
    "    rY = get_variable_value(rP, 'y')\n",
    "    rX = get_variable_value(rP, 'x').reshape(c_num, l_num)\n",
    "    print(f\"rY = {rY}\")\n",
    "    #print(f\"rX = \\n {rX}\")\n",
    "    print(f\"rZ = {rZ}\")\n",
    "    print(\"####################\\n\\n\")\n",
    "\n",
    "# Run command\n",
    "runner(50, 10)"
   ]
  },
  {
   "cell_type": "markdown",
   "metadata": {},
   "source": [
    "### Plot results"
   ]
  },
  {
   "cell_type": "code",
   "execution_count": 256,
   "metadata": {},
   "outputs": [
    {
     "data": {
      "image/png": "[encoded data removed]",
      "text/plain": [
       "<Figure size 1080x504 with 1 Axes>"
      ]
     },
     "metadata": {},
     "output_type": "display_data"
    }
   ],
   "source": [
    "# subgradient bound improvement\n",
    "def plot_subgradient():    \n",
    "    fig = plt.figure()    \n",
    "    z_subgradient = Log.d['z_lr']\n",
    "    z_ip = Log.d[\"z_ip\"]\n",
    "    plt.plot(z_subgradient, linestyle='dashed')\n",
    "    plt.plot(z_ip, color='orange')\n",
    "    plt.xlabel('Iteration')\n",
    "    plt.ylabel('Objective Function Value')\n",
    "    plt.title('Lagrange Relaxed Values')\n",
    "    \n",
    "    plt.grid(True)\n",
    "    plt.tight_layout()\n",
    "    plt.show()\n",
    "    \n",
    "plot_subgradient()"
   ]
  },
  {
   "cell_type": "code",
   "execution_count": 257,
   "metadata": {},
   "outputs": [
    {
     "data": {
      "image/png": "[encoded data removed]",
      "text/plain": [
       "<Figure size 1080x504 with 2 Axes>"
      ]
     },
     "metadata": {},
     "output_type": "display_data"
    }
   ],
   "source": [
    "# subgradient step size\n",
    "def plot_stepsize():\n",
    "    fig, [ax1, ax2] = plt.subplots(2, 1, sharex=True)\n",
    "    \n",
    "    # subgradient step size\n",
    "    ax1.plot(Log.d[\"step_size\"])   \n",
    "    ax1.set_ylabel(\"Step size\")\n",
    "    ax1.grid(True)\n",
    "    \n",
    "    # subgradient alpha param\n",
    "    ax2.plot(Log.d[\"alpha\"]) \n",
    "    ax2.set_xlabel(\"Iteration\")\n",
    "    ax2.set_ylabel(r\"$\\alpha$ value\")\n",
    "    ax2.grid(True)\n",
    "    \n",
    "    fig.tight_layout()\n",
    "    plt.show()\n",
    "\n",
    "plot_stepsize()"
   ]
  },
  {
   "cell_type": "code",
   "execution_count": 258,
   "metadata": {},
   "outputs": [],
   "source": [
    "# Clean up run data\n",
    "Log.d.clear()"
   ]
  },
  {
   "cell_type": "code",
   "execution_count": null,
   "metadata": {},
   "outputs": [],
   "source": []
  }
 ],
 "metadata": {
  "kernelspec": {
   "display_name": "Python 3",
   "language": "python",
   "name": "python3"
  },
  "language_info": {
   "codemirror_mode": {
    "name": "ipython",
    "version": 3
   },
   "file_extension": ".py",
   "mimetype": "text/x-python",
   "name": "python",
   "nbconvert_exporter": "python",
   "pygments_lexer": "ipython3",
   "version": "3.6.6"
  },
  "toc": {
   "base_numbering": 1,
   "nav_menu": {},
   "number_sections": true,
   "sideBar": true,
   "skip_h1_title": false,
   "title_cell": "Table of Contents",
   "title_sidebar": "Contents",
   "toc_cell": false,
   "toc_position": {},
   "toc_section_display": true,
   "toc_window_display": false
  }
 },
 "nbformat": 4,
 "nbformat_minor": 2
}
