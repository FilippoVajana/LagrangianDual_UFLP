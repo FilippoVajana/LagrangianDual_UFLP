{
 "cells": [
  {
   "cell_type": "markdown",
   "metadata": {},
   "source": [
    "# Uncapacitated Facility Location Problem\n",
    "## Setup"
   ]
  },
  {
   "cell_type": "code",
   "execution_count": 31,
   "metadata": {},
   "outputs": [],
   "source": [
    "# import\n",
    "from pulp import *\n",
    "from solver_utils import *\n",
    "from data_utils import *\n",
    "import numpy as np\n",
    "\n",
    "%matplotlib inline\n",
    "import seaborn\n",
    "import matplotlib.pyplot as plt\n",
    "plt.rcParams['figure.figsize'] = [15, 7]\n",
    "plt.rcParams['xtick.labelsize'] = 10\n",
    "plt.rcParams['ytick.labelsize'] = 10\n",
    "plt.rcParams['font.size'] = 12\n",
    "plt.style.use('seaborn-white')\n",
    "\n",
    "# services\n",
    "Data = DataGenerator()\n",
    "Log = DataLogger()"
   ]
  },
  {
   "cell_type": "markdown",
   "metadata": {},
   "source": [
    "## Primal Model"
   ]
  },
  {
   "cell_type": "code",
   "execution_count": 2,
   "metadata": {},
   "outputs": [],
   "source": [
    "def build_primal(c_num, l_num, C, F):\n",
    "    # problem instance\n",
    "    problem = LpProblem(\"UFL - Primal Problem (Wolsey)\", sense=LpMaximize)\n",
    "\n",
    "    # decision variables\n",
    "    x = Data.VAR_matrix(c_num, l_num, 'x', 'Continuous')\n",
    "    y = Data.VAR_vector(l_num, 'y', 'Binary')\n",
    "\n",
    "    # objective function\n",
    "    profits = [C[i][j] * x[i][j] for i in range(c_num) for j in range(l_num)]\n",
    "    fixed_costs = [F[j] * y[j] for j in range(l_num)]\n",
    "    problem += lpSum(profits) - lpSum(fixed_costs)\n",
    "\n",
    "    # constraints\n",
    "    for i in range(c_num):\n",
    "        problem += lpSum([x[i][j] for j in range(l_num)]) == 1\n",
    "\n",
    "    for i in range(c_num):\n",
    "        for j in range(l_num):\n",
    "            problem += x[i][j] - y[j] <= 0\n",
    "            \n",
    "    return problem"
   ]
  },
  {
   "cell_type": "markdown",
   "metadata": {},
   "source": [
    "## Primal Integer Problem"
   ]
  },
  {
   "cell_type": "code",
   "execution_count": 3,
   "metadata": {},
   "outputs": [],
   "source": [
    "def build_primal_int(c_num, l_num, C, F):\n",
    "    # problem instance\n",
    "    problem = LpProblem(\"UFL - Primal Problem (Wolsey)\", sense=LpMaximize)\n",
    "\n",
    "    # decision variables\n",
    "    x = Data.VAR_matrix(c_num, l_num, 'x', 'Continuous')\n",
    "    y = Data.VAR_vector(l_num, 'y', 'Continuous')\n",
    "\n",
    "    # objective function\n",
    "    profits = [C[i][j] * x[i][j] for i in range(c_num) for j in range(l_num)]\n",
    "    fixed_costs = [F[j] * y[j] for j in range(l_num)]\n",
    "    problem += lpSum(profits) - lpSum(fixed_costs)\n",
    "\n",
    "    # constraints\n",
    "    for i in range(c_num):\n",
    "        problem += lpSum([x[i][j] for j in range(l_num)]) == 1\n",
    "\n",
    "    for i in range(c_num):\n",
    "        for j in range(l_num):\n",
    "            problem += x[i][j] - y[j] <= 0\n",
    "            \n",
    "    return problem"
   ]
  },
  {
   "cell_type": "markdown",
   "metadata": {},
   "source": [
    "## Relaxed Model"
   ]
  },
  {
   "cell_type": "code",
   "execution_count": 4,
   "metadata": {},
   "outputs": [],
   "source": [
    "def build_relaxed(c_num, l_num, u_vector, C, F):\n",
    "    \"\"\"\n",
    "    Lagrange relaxation for UFL problem as in Wolsey\n",
    "    \"\"\"\n",
    "\n",
    "    # problem instance\n",
    "    problem = LpProblem(\"UFL - Lagrange Relaxed Problem (Wolsey)\", sense=LpMaximize)\n",
    "\n",
    "    # check lagrange multipliers vector\n",
    "    if len(u_vector) != c_num : \n",
    "        raise ValueError('Invalid u_vect size')\n",
    "\n",
    "    # decision variables    \n",
    "    x = Data.VAR_matrix(c_num, l_num, 'x', 'Continuous')\n",
    "    y = Data.VAR_vector(l_num, 'y', 'Binary')\n",
    "\n",
    "    # objective function\n",
    "    profits = [C[i][j] * x[i][j] for i in range(c_num) for j in range(l_num)]\n",
    "    fixed_costs = [F[j] * y[j] for j in range(l_num)]\n",
    "    l1 = [u_vector[i] for i in range(c_num)]\n",
    "    l2 = [u_vector[i] * x[i][j] for i in range(c_num) for j in range(l_num)]\n",
    "    #lagrange = [u_vector[i] * (1 - x[i][j]) for i in range(c_num) for j in range(l_num)]\n",
    "\n",
    "    problem += lpSum(profits) - lpSum(fixed_costs) + lpSum(l1) - lpSum(l2)\n",
    "\n",
    "    # constraints\n",
    "    for i in range(c_num):\n",
    "        for j in range(l_num):\n",
    "            problem += x[i][j] - y[j] <= 0\n",
    "\n",
    "    return problem"
   ]
  },
  {
   "cell_type": "markdown",
   "metadata": {},
   "source": [
    "## Subgradient Algorithm\n",
    "#### Version 1 (course material)"
   ]
  },
  {
   "cell_type": "code",
   "execution_count": 5,
   "metadata": {},
   "outputs": [],
   "source": [
    "def run_subgradient(c_num, l_num, u_vector, z_ip, C, F):\n",
    "    # parameters\n",
    "    t_max = c_num # maximum loops w/ improvement\n",
    "    k = 1 # no improvement loop counter\n",
    "    alpha_stop = 0.05 # stop parameter\n",
    "    alpha = 2\n",
    "    z_best = np.Infinity\n",
    "    p_lr_best = None\n",
    "\n",
    "    while True:\n",
    "        # compute best z(u)\n",
    "        p_lr = build_relaxed(c_num, l_num, u_vector, C, F)\n",
    "        solve(p_lr)\n",
    "        z_lr = get_objectiveFunction_value(p_lr)\n",
    "        Log.logData('z_lr', z_lr)\n",
    "        Log.logData('z_ip', z_ip) # simplify plotting\n",
    "\n",
    "        # compute subgradient\n",
    "        x_lr = get_variable_value(p_lr, 'x')\n",
    "        # print(f\"x_lr:\\n {x_lr}\")\n",
    "        sg = subgradient_tbn(x_lr, c_num, l_num)\n",
    "        # print(f\"subgradient vector:\\n {sg}\")\n",
    "\n",
    "        # check subgradient\n",
    "        if not np.any(sg):\n",
    "            print(f\"null subgradient:\\n {sg}\")\n",
    "            p_lr_best = p_lr\n",
    "            break\n",
    "\n",
    "        # compute step size            \n",
    "        step = step_tbn(alpha, z_ip, z_lr, sg)\n",
    "        \n",
    "        # compute new lagrange multipliers\n",
    "        u = u_vector #copy\n",
    "        u_vector = update_lagrange_tbn(u, step, sg)\n",
    "\n",
    "        # check bound\n",
    "        if round(z_lr, 3) < round(z_best, 3):\n",
    "            z_best = z_lr\n",
    "            p_lr_best = p_lr\n",
    "            k = 0\n",
    "            print(f\"z_best: {z_best}\")\n",
    "            \n",
    "        # check counter\n",
    "        if k == t_max:\n",
    "            alpha = alpha / 2\n",
    "            k = 0\n",
    "            print(f\"alpha: {alpha}\")\n",
    "\n",
    "        # check stop condition\n",
    "        if alpha < alpha_stop:\n",
    "            break\n",
    "        \n",
    "        k = k + 1\n",
    "    return (z_best, p_lr_best)"
   ]
  },
  {
   "cell_type": "markdown",
   "metadata": {},
   "source": [
    "#### Version 2 (paper)"
   ]
  },
  {
   "cell_type": "code",
   "execution_count": 6,
   "metadata": {},
   "outputs": [],
   "source": [
    "def run_subgradient_paper(c_num, l_num, u_vector, z_ip, C, F):\n",
    "    # parameters\n",
    "    t_max = c_num # maximum loops w/ improvement\n",
    "    k = 1 # no improvement loop counter\n",
    "    alpha_stop = 0.05 # stop parameter\n",
    "    alpha = 2\n",
    "    z_best = np.Infinity\n",
    "    p_lr_best = None\n",
    "\n",
    "    while True:\n",
    "        # compute best z(u)\n",
    "        p_lr = build_relaxed(c_num, l_num, u_vector, C, F)\n",
    "        solve(p_lr)\n",
    "        z_lr = get_objectiveFunction_value(p_lr)\n",
    "        Log.logData('z_lr2', z_lr)\n",
    "        Log.logData('z_ip2', z_ip) # simplify plotting\n",
    "\n",
    "        # compute subgradient\n",
    "        x_lr = get_variable_value(p_lr, 'x')\n",
    "        # print(f\"x_lr:\\n {x_lr}\")\n",
    "        sg = subgradient_tbn(x_lr, c_num, l_num)\n",
    "        # print(f\"subgradient vector:\\n {sg}\")\n",
    "\n",
    "        # check subgradient\n",
    "        if not np.any(sg):\n",
    "            print(f\"null subgradient:\\n {sg}\")\n",
    "            p_lr_best = p_lr\n",
    "            break\n",
    "\n",
    "        # compute step size            \n",
    "        step = step_paper(alpha, z_ip, z_lr, sg)\n",
    "        \n",
    "        # compute new lagrange multipliers\n",
    "        u = u_vector #copy\n",
    "        u_vector = update_lagrange_paper(u, step, sg)\n",
    "\n",
    "        # check bound\n",
    "        if round(z_lr, 3) < round(z_best, 3):\n",
    "            z_best = z_lr\n",
    "            p_lr_best = p_lr\n",
    "            k = 0\n",
    "            print(f\"z_best: {z_best}\")\n",
    "            \n",
    "        # check counter\n",
    "        if k == t_max:\n",
    "            alpha = alpha / 2\n",
    "            k = 0\n",
    "            print(f\"alpha: {alpha}\")\n",
    "\n",
    "        # check stop condition\n",
    "        if alpha < alpha_stop:\n",
    "            break\n",
    "        \n",
    "        k = k + 1\n",
    "    return (z_best, p_lr_best)"
   ]
  },
  {
   "cell_type": "markdown",
   "metadata": {},
   "source": [
    "### Compute subgradient vector"
   ]
  },
  {
   "cell_type": "code",
   "execution_count": 7,
   "metadata": {},
   "outputs": [],
   "source": [
    "def subgradient_tbn(x_lr, c_num, l_num):\n",
    "    # reshape X matrix\n",
    "    x_lr = np.reshape(x_lr, (c_num, l_num)) \n",
    "\n",
    "    # compute D*x(u)\n",
    "    d_x = [sum([x_lr[i][j] for j in range(l_num)]) for i in range(c_num)]\n",
    "    # print(x_lr)\n",
    "    # print(d_x)\n",
    "\n",
    "    # d vector\n",
    "    d = np.ones(c_num)\n",
    "\n",
    "    # subgradient\n",
    "    sg = d - d_x\n",
    "    #print(f\"subgradient: \\n{sg}\")\n",
    "\n",
    "    return sg"
   ]
  },
  {
   "cell_type": "markdown",
   "metadata": {},
   "source": [
    "### Compute step size\n",
    "#### Version 1 (course material)"
   ]
  },
  {
   "cell_type": "code",
   "execution_count": 8,
   "metadata": {},
   "outputs": [],
   "source": [
    "def step_tbn(alpha, z_ip, z_lr, subgradient):\n",
    "    num = np.abs(z_ip - z_lr)\n",
    "    den = (np.linalg.norm(subgradient)) ** 2\n",
    "    step = alpha * num / den\n",
    "    \n",
    "    # log data\n",
    "    Log.logData('step_size', step)\n",
    "    Log.logData('alpha', alpha)\n",
    "\n",
    "    #print(f\"step_tbn: {step}\")\n",
    "    return step"
   ]
  },
  {
   "cell_type": "markdown",
   "metadata": {},
   "source": [
    "#### Version 2 (paper)"
   ]
  },
  {
   "cell_type": "code",
   "execution_count": 9,
   "metadata": {},
   "outputs": [],
   "source": [
    "def step_paper(alpha, z_ip, z_lr, subgradient):\n",
    "    num = np.abs(z_ip - z_lr)\n",
    "    den = np.sum(np.square(subgradient))\n",
    "    step = alpha * num / den\n",
    "    \n",
    "    # log data\n",
    "    Log.logData('step_size2', step)\n",
    "    Log.logData('alpha2', alpha)\n",
    "\n",
    "    #print(f\"step_tbn: {step}\")\n",
    "    return step"
   ]
  },
  {
   "cell_type": "markdown",
   "metadata": {},
   "source": [
    "### Compute new Lagrange multipliers vector\n",
    "#### Version 1 (course material)"
   ]
  },
  {
   "cell_type": "code",
   "execution_count": 10,
   "metadata": {},
   "outputs": [],
   "source": [
    "def update_lagrange_tbn(u, step, subgradient):\n",
    "    u_next = u + step * subgradient\n",
    "\n",
    "    #print(f\"u_next_tbn: \\n{u_next}\")\n",
    "    return u_next"
   ]
  },
  {
   "cell_type": "markdown",
   "metadata": {},
   "source": [
    "#### Version 2 (paper)"
   ]
  },
  {
   "cell_type": "code",
   "execution_count": 11,
   "metadata": {},
   "outputs": [],
   "source": [
    "def update_lagrange_paper(u, step, subgradient):\n",
    "    size = len(subgradient)\n",
    "    u_vect = [min(0, u[i] + step * subgradient[i]) for i in range(size)]\n",
    "        \n",
    "    u_next = np.asarray(u_vect)\n",
    "    #print(f\"u_next_tbn: \\n{u_next}\")\n",
    "    return u_next"
   ]
  },
  {
   "cell_type": "markdown",
   "metadata": {},
   "source": [
    "## Results\n",
    "### Run"
   ]
  },
  {
   "cell_type": "code",
   "execution_count": 12,
   "metadata": {},
   "outputs": [
    {
     "name": "stdout",
     "output_type": "stream",
     "text": [
      "####################\n",
      "SOLVE PRIMAL PROBLEM\n",
      "pY = [0. 1. 1.]\n",
      "pZ = 127.0\n",
      "####################\n",
      "\n",
      "\n",
      "####################\n",
      "SOLVE PRIMAL INTEGER PROBLEM\n",
      "pY = [0. 1. 1.]\n",
      "pZ = 127.0\n",
      "####################\n",
      "\n",
      "\n",
      "####################\n",
      "SOLVE RELAXED PROBLEM (Subgradient Ver. 1)\n",
      "z_best: 177.0\n",
      "alpha: 1.0\n",
      "alpha: 0.5\n",
      "alpha: 0.25\n",
      "alpha: 0.125\n",
      "alpha: 0.0625\n",
      "alpha: 0.03125\n",
      "rY = [0. 1. 1.]\n",
      "rZ = 177.0\n",
      "####################\n",
      "\n",
      "\n",
      "####################\n",
      "SOLVE RELAXED PROBLEM (Subgradient Ver. 2)\n",
      "z_best: 177.0\n",
      "alpha: 1.0\n",
      "alpha: 0.5\n",
      "alpha: 0.25\n",
      "alpha: 0.125\n",
      "alpha: 0.0625\n",
      "alpha: 0.03125\n",
      "r2Y = [0. 1. 1.]\n",
      "r2Z = 177.0\n",
      "####################\n",
      "\n",
      "\n"
     ]
    }
   ],
   "source": [
    "def runner(c_num=10, l_num=2):    \n",
    "    # init c_num revenues\n",
    "    C = Data.INT_matrix(c_num, l_num, False)\n",
    "\n",
    "    # init facilities service cost\n",
    "    f_avg_profit = np.average(C) # avg facility profit   \n",
    "    f_min_cost = f_avg_profit\n",
    "    f_max_cost = f_avg_profit * c_num * 2\n",
    "    F = Data.INT_vector(l_num, f_min_cost, f_max_cost, False)\n",
    "    #print(f\"C:\\n {C}\")\n",
    "    #print(f\"F:\\n {F}\")\n",
    "    \n",
    "    # lagrange multipliers\n",
    "    u_vector = np.zeros(c_num)\n",
    "    \n",
    "    \n",
    "    \n",
    "    # IP problem      \n",
    "    ip_problem = build_primal(c_num, l_num, C, F)\n",
    "    print(\"####################\")\n",
    "    print(\"SOLVE PRIMAL PROBLEM\")\n",
    "    \n",
    "    solve(ip_problem, console_out=False)\n",
    "    pY = get_variable_value(ip_problem, 'y')\n",
    "    pX = get_variable_value(ip_problem, 'x').reshape(c_num, l_num)\n",
    "    pZ = get_objectiveFunction_value(ip_problem)    \n",
    "    print(f\"pY = {pY}\")\n",
    "    #print(f\"pX = \\n {pX}\")\n",
    "    print(f\"pZ = {pZ}\")\n",
    "    print(\"####################\\n\\n\")\n",
    "    \n",
    "    # IP problem      \n",
    "    ip_problem_int = build_primal_int(c_num, l_num, C, F)\n",
    "    print(\"####################\")\n",
    "    print(\"SOLVE PRIMAL INTEGER PROBLEM\")\n",
    "    \n",
    "    solve(ip_problem, console_out=False)\n",
    "    pY = get_variable_value(ip_problem, 'y')\n",
    "    pX = get_variable_value(ip_problem, 'x').reshape(c_num, l_num)\n",
    "    pZ = get_objectiveFunction_value(ip_problem)    \n",
    "    print(f\"pY = {pY}\")\n",
    "    #print(f\"pX = \\n {pX}\")\n",
    "    print(f\"pZ = {pZ}\")\n",
    "    print(\"####################\\n\\n\")\n",
    "    \n",
    "    \n",
    "    # LR problem (tbn)\n",
    "    print(\"####################\")\n",
    "    print(\"SOLVE RELAXED PROBLEM (Subgradient Ver. 1)\")    \n",
    "    \n",
    "    (rZ, rP) = run_subgradient(c_num, l_num, u_vector, pZ, C, F)\n",
    "    rY = get_variable_value(rP, 'y')\n",
    "    rX = get_variable_value(rP, 'x').reshape(c_num, l_num)\n",
    "    print(f\"rY = {rY}\")\n",
    "    #print(f\"rX = \\n {rX}\")\n",
    "    print(f\"rZ = {rZ}\")\n",
    "    print(\"####################\\n\\n\")\n",
    "    \n",
    "    # LR problem (tbn)\n",
    "    print(\"####################\")\n",
    "    print(\"SOLVE RELAXED PROBLEM (Subgradient Ver. 2)\")    \n",
    "    \n",
    "    (r2Z, r2P) = run_subgradient_paper(c_num, l_num, u_vector, pZ, C, F)\n",
    "    r2Y = get_variable_value(r2P, 'y')\n",
    "    r2X = get_variable_value(r2P, 'x').reshape(c_num, l_num)\n",
    "    print(f\"r2Y = {r2Y}\")\n",
    "    #print(f\"rX = \\n {rX}\")\n",
    "    print(f\"r2Z = {r2Z}\")\n",
    "    print(\"####################\\n\\n\")\n",
    "\n",
    "\n",
    "# Run command\n",
    "runner(25, 3)"
   ]
  },
  {
   "cell_type": "markdown",
   "metadata": {},
   "source": [
    "### Plot results"
   ]
  },
  {
   "cell_type": "code",
   "execution_count": 13,
   "metadata": {},
   "outputs": [
    {
     "data": {
      "image/png": "[encoded data removed]",
      "text/plain": [
       "<Figure size 432x288 with 1 Axes>"
      ]
     },
     "metadata": {
      "needs_background": "light"
     },
     "output_type": "display_data"
    }
   ],
   "source": [
    "# subgradient bound improvement\n",
    "def plot_subgradient():    \n",
    "    fig = plt.figure()    \n",
    "    z_subgradient = Log.d['z_lr']\n",
    "    z_subgradient2 = Log.d['z_lr2']\n",
    "    z_ip = Log.d[\"z_ip\"]\n",
    "    \n",
    "    sub1, = plt.plot(z_subgradient, linestyle='--')\n",
    "    sub2, = plt.plot(z_subgradient2, linestyle='-.')\n",
    "    ip, = plt.plot(z_ip, linestyle='-')\n",
    "    plt.xlabel('Iteration')\n",
    "    plt.ylabel('z(u)')\n",
    "    plt.title('Subgradient Algorithm')\n",
    "    plt.legend((sub1,sub2,ip),(\"subgradient_1\", \"subgradient_2\", \"ip\"))\n",
    "    \n",
    "    plt.grid(True)\n",
    "    plt.tight_layout()\n",
    "    plt.show()\n",
    "    \n",
    "plot_subgradient()"
   ]
  },
  {
   "cell_type": "code",
   "execution_count": 14,
   "metadata": {
    "scrolled": false
   },
   "outputs": [
    {
     "data": {
      "image/png": "[encoded data removed]",
      "text/plain": [
       "<Figure size 432x288 with 2 Axes>"
      ]
     },
     "metadata": {
      "needs_background": "light"
     },
     "output_type": "display_data"
    }
   ],
   "source": [
    "# subgradient step size\n",
    "def plot_stepsize():\n",
    "    fig, [ax1, ax2] = plt.subplots(2, 1, sharex=True)\n",
    "    \n",
    "    # subgradient step size\n",
    "    sub1, = ax1.plot(Log.d[\"step_size\"])  \n",
    "    sub2, = ax1.plot(Log.d[\"step_size2\"])\n",
    "    ax1.set_ylabel(\"Step size\")\n",
    "    ax1.grid(True)\n",
    "    \n",
    "    # subgradient alpha param\n",
    "    ax2.plot(Log.d[\"alpha\"]) \n",
    "    ax2.set_xlabel(\"Iteration\")\n",
    "    ax2.set_ylabel(r\"$\\alpha$ value\")\n",
    "    ax2.grid(True)\n",
    "    \n",
    "    fig.tight_layout()\n",
    "    plt.show()\n",
    "\n",
    "plot_stepsize()"
   ]
  },
  {
   "cell_type": "code",
   "execution_count": 20,
   "metadata": {},
   "outputs": [],
   "source": [
    "# Clean up run data\n",
    "Log.d.clear()"
   ]
  },
  {
   "cell_type": "code",
   "execution_count": 49,
   "metadata": {},
   "outputs": [],
   "source": [
    "from importlib import reload\n",
    "import data_utils\n",
    "reload(data_utils)\n",
    "instance = data_utils.InstanceData(clients=10, locations=4)"
   ]
  },
  {
   "cell_type": "code",
   "execution_count": 50,
   "metadata": {},
   "outputs": [
    {
     "name": "stdout",
     "output_type": "stream",
     "text": [
      "U = \n",
      " [0. 0. 0. 0. 0. 0. 0. 0. 0. 0.]\n",
      "C = \n",
      " [[ 8  7  6  9]\n",
      " [ 8  3  6  9]\n",
      " [10  8  6  0]\n",
      " [ 4 10  1 10]\n",
      " [ 9  9  0  9]\n",
      " [ 0  0  9  4]\n",
      " [ 9  4  9  1]\n",
      " [ 8  1  3  7]\n",
      " [ 6  9  0  6]\n",
      " [ 1  8 10  3]]\n",
      "F = \n",
      " [5, 5, 3, 5, 3, 2, 4, 2, 4, 3]\n"
     ]
    }
   ],
   "source": [
    "instance.save()\n",
    "instance.print()"
   ]
  },
  {
   "cell_type": "code",
   "execution_count": 51,
   "metadata": {},
   "outputs": [
    {
     "name": "stdout",
     "output_type": "stream",
     "text": [
      "U = \n",
      " [0. 0. 0. 0. 0. 0. 0. 0. 0. 0.]\n",
      "C = \n",
      " [[ 8  7  6  9]\n",
      " [ 8  3  6  9]\n",
      " [10  8  6  0]\n",
      " [ 4 10  1 10]\n",
      " [ 9  9  0  9]\n",
      " [ 0  0  9  4]\n",
      " [ 9  4  9  1]\n",
      " [ 8  1  3  7]\n",
      " [ 6  9  0  6]\n",
      " [ 1  8 10  3]]\n",
      "F = \n",
      " [5, 5, 3, 5, 3, 2, 4, 2, 4, 3]\n"
     ]
    }
   ],
   "source": [
    "i = instance.load()\n",
    "i.print()"
   ]
  },
  {
   "cell_type": "code",
   "execution_count": null,
   "metadata": {},
   "outputs": [],
   "source": []
  }
 ],
 "metadata": {
  "kernelspec": {
   "display_name": "Python 3",
   "language": "python",
   "name": "python3"
  },
  "language_info": {
   "codemirror_mode": {
    "name": "ipython",
    "version": 3
   },
   "file_extension": ".py",
   "mimetype": "text/x-python",
   "name": "python",
   "nbconvert_exporter": "python",
   "pygments_lexer": "ipython3",
   "version": "3.6.6"
  },
  "toc": {
   "base_numbering": 1,
   "nav_menu": {},
   "number_sections": true,
   "sideBar": true,
   "skip_h1_title": false,
   "title_cell": "Table of Contents",
   "title_sidebar": "Contents",
   "toc_cell": false,
   "toc_position": {},
   "toc_section_display": true,
   "toc_window_display": false
  }
 },
 "nbformat": 4,
 "nbformat_minor": 2
}
