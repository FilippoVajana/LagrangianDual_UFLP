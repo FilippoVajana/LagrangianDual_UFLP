{
 "cells": [
  {
   "cell_type": "markdown",
   "metadata": {},
   "source": [
    "# Uncapacitated Facility Location Problem\n",
    "## Setup"
   ]
  },
  {
   "cell_type": "code",
   "execution_count": 216,
   "metadata": {
    "ExecuteTime": {
     "end_time": "2018-11-14T19:15:20.599916Z",
     "start_time": "2018-11-14T19:15:19.625781Z"
    },
    "scrolled": true
   },
   "outputs": [
    {
     "name": "stdout",
     "output_type": "stream",
     "text": [
      "numpy: 1.15.2\n",
      "pandas: 0.23.4\n",
      "seaborn: 0.9.0\n",
      "matplotlib: 2.2.2\n"
     ]
    }
   ],
   "source": [
    "# autoreload external files\n",
    "%reload_ext autoreload\n",
    "%autoreload 2\n",
    "\n",
    "# import custom lib\n",
    "from solver_utils import *\n",
    "from data_utils import *\n",
    "import benchmark as bnc\n",
    "#from plot import *\n",
    "\n",
    "# import lib\n",
    "from pulp import *\n",
    "import numpy as np\n",
    "print('numpy:', np.__version__)\n",
    "import pandas as pd\n",
    "print('pandas:', pd.__version__)\n",
    "import seaborn as sns\n",
    "print('seaborn:',sns.__version__)\n",
    "%matplotlib inline\n",
    "import matplotlib\n",
    "import matplotlib.pyplot as plt\n",
    "print('matplotlib:',matplotlib.__version__)\n",
    "import timeit as time\n",
    "\n",
    "\n",
    "# services\n",
    "Data = DataGenerator()"
   ]
  },
  {
   "cell_type": "markdown",
   "metadata": {
    "heading_collapsed": true
   },
   "source": [
    "## Primal Model"
   ]
  },
  {
   "cell_type": "code",
   "execution_count": 217,
   "metadata": {
    "ExecuteTime": {
     "end_time": "2018-11-14T19:15:21.531432Z",
     "start_time": "2018-11-14T19:15:20.603852Z"
    },
    "code_folding": [],
    "hidden": true,
    "scrolled": true
   },
   "outputs": [],
   "source": [
    "def build_primal(c_num, l_num, C, F):\n",
    "    # problem instance\n",
    "    problem = LpProblem(\"UFL - Primal Problem (Wolsey)\", sense=LpMaximize)\n",
    "\n",
    "    # decision variables\n",
    "    x = Data.VAR_matrix(c_num, l_num, 'x', 'Continuous')\n",
    "    y = Data.VAR_vector(l_num, 'y', 'Binary')\n",
    "\n",
    "    # objective function\n",
    "    profits = [C[i][j] * x[i][j] for i in range(c_num) for j in range(l_num)]\n",
    "    fixed_costs = [F[j] * y[j] for j in range(l_num)]\n",
    "    problem += lpSum(profits) - lpSum(fixed_costs)\n",
    "\n",
    "    # constraints\n",
    "    for i in range(c_num):\n",
    "        problem += lpSum([x[i][j] for j in range(l_num)]) == 1\n",
    "\n",
    "    for i in range(c_num):\n",
    "        for j in range(l_num):\n",
    "            problem += x[i][j] - y[j] <= 0\n",
    "            \n",
    "    return problem"
   ]
  },
  {
   "cell_type": "markdown",
   "metadata": {
    "heading_collapsed": true
   },
   "source": [
    "## Integer Problem"
   ]
  },
  {
   "cell_type": "code",
   "execution_count": 218,
   "metadata": {
    "ExecuteTime": {
     "end_time": "2018-11-14T19:15:22.424411Z",
     "start_time": "2018-11-14T19:15:21.533853Z"
    },
    "hidden": true,
    "scrolled": true
   },
   "outputs": [],
   "source": [
    "def build_primal_int(c_num, l_num, C, F):\n",
    "    # problem instance\n",
    "    problem = LpProblem(\"UFL - Primal Integer Relaxed Problem (Wolsey)\", sense=LpMaximize)\n",
    "\n",
    "    # decision variables\n",
    "    x = Data.VAR_matrix(c_num, l_num, 'x', 'Continuous')\n",
    "    y = Data.VAR_vector(l_num, 'y', 'Continuous')\n",
    "\n",
    "    # objective function\n",
    "    profits = [C[i][j] * x[i][j] for i in range(c_num) for j in range(l_num)]\n",
    "    fixed_costs = [F[j] * y[j] for j in range(l_num)]\n",
    "    problem += lpSum(profits) - lpSum(fixed_costs)\n",
    "\n",
    "    # constraints\n",
    "    for i in range(c_num):\n",
    "        problem += lpSum([x[i][j] for j in range(l_num)]) == 1\n",
    "\n",
    "    for i in range(c_num):\n",
    "        for j in range(l_num):\n",
    "            problem += x[i][j] - y[j] <= 0\n",
    "            \n",
    "    return problem"
   ]
  },
  {
   "cell_type": "markdown",
   "metadata": {
    "heading_collapsed": true
   },
   "source": [
    "## Lagrangian Relaxed Model"
   ]
  },
  {
   "cell_type": "code",
   "execution_count": 219,
   "metadata": {
    "ExecuteTime": {
     "end_time": "2018-11-14T19:15:23.655874Z",
     "start_time": "2018-11-14T19:15:22.428634Z"
    },
    "hidden": true,
    "scrolled": true
   },
   "outputs": [],
   "source": [
    "def build_relaxed(c_num, l_num, u_vector, C, F):\n",
    "    \"\"\"\n",
    "    Lagrange relaxation for UFL problem as in Wolsey\n",
    "    \"\"\"\n",
    "\n",
    "    # problem instance\n",
    "    problem = LpProblem(\"UFL - Lagrange Relaxed Problem (Wolsey)\", sense=LpMaximize)\n",
    "\n",
    "    # check lagrange multipliers vector\n",
    "    if len(u_vector) != c_num : \n",
    "        raise ValueError('Invalid u_vect size')\n",
    "\n",
    "    # decision variables    \n",
    "    x = Data.VAR_matrix(c_num, l_num, 'x', 'Continuous')\n",
    "    y = Data.VAR_vector(l_num, 'y', 'Binary')\n",
    "\n",
    "    # objective function\n",
    "    profits = [C[i][j] * x[i][j] for i in range(c_num) for j in range(l_num)]\n",
    "    fixed_costs = [F[j] * y[j] for j in range(l_num)]\n",
    "    l1 = [u_vector[i] for i in range(c_num)]\n",
    "    l2 = [u_vector[i] * x[i][j] for i in range(c_num) for j in range(l_num)]\n",
    "    #lagrange = [u_vector[i] * (1 - x[i][j]) for i in range(c_num) for j in range(l_num)]\n",
    "\n",
    "    problem += lpSum(profits) - lpSum(fixed_costs) + lpSum(l1) - lpSum(l2)\n",
    "\n",
    "    # constraints\n",
    "    for i in range(c_num):\n",
    "        for j in range(l_num):\n",
    "            problem += x[i][j] - y[j] <= 0\n",
    "\n",
    "    return problem"
   ]
  },
  {
   "cell_type": "markdown",
   "metadata": {
    "heading_collapsed": true
   },
   "source": [
    "## Subgradient Algorithm"
   ]
  },
  {
   "cell_type": "markdown",
   "metadata": {},
   "source": [
    "## Results"
   ]
  },
  {
   "cell_type": "markdown",
   "metadata": {},
   "source": [
    "### Initialize benchmark environment"
   ]
  },
  {
   "cell_type": "code",
   "execution_count": 220,
   "metadata": {
    "ExecuteTime": {
     "end_time": "2018-11-14T19:15:24.556580Z",
     "start_time": "2018-11-14T19:15:23.659810Z"
    },
    "scrolled": true
   },
   "outputs": [],
   "source": [
    "def init_benchmark_env():\n",
    "    # params\n",
    "    c_shapes = [(c,5) for c in range(10,50,10)]\n",
    "    l_shapes = [(50,l) for l in range(2,10,2)]\n",
    "    i_shapes = c_shapes + l_shapes #instance sizes\n",
    "    i_rep = 10 #instances for each size\n",
    "    \n",
    "    i_shapes = [(10,3), (15,5)]\n",
    "    i_rep = 3\n",
    "    \n",
    "    # init data\n",
    "    b = bnc.Benchmark()\n",
    "    i = b.build_test_instances(i_shapes, i_rep)    \n",
    "    \"\"\"\n",
    "    # save instances\n",
    "    for idx, instance in enumerate(i):\n",
    "        b.save(instance, idx)  \n",
    "        \n",
    "    # load instances\n",
    "    i = b.load()\n",
    "    \"\"\"\n",
    "    # return instances\n",
    "    return i\n",
    "    "
   ]
  },
  {
   "cell_type": "markdown",
   "metadata": {},
   "source": [
    "### Run benchmark"
   ]
  },
  {
   "cell_type": "code",
   "execution_count": 221,
   "metadata": {
    "ExecuteTime": {
     "end_time": "2018-11-14T19:15:25.450892Z",
     "start_time": "2018-11-14T19:15:24.560051Z"
    },
    "code_folding": [],
    "scrolled": false
   },
   "outputs": [],
   "source": [
    "def runner():\n",
    "    # init benchmark instances\n",
    "    instances = init_benchmark_env()\n",
    "    results = list()    \n",
    "    # run instances\n",
    "    for i in instances:        \n",
    "        # init benchmark data\n",
    "        b_data = bnc.BenchmarkResult_v2(i)\n",
    "        results.append(b_data)\n",
    "        \n",
    "        # compute cost/profits\n",
    "        #delta_cp = [np.sum(i.C[:,k]) - i.F[k] for k in range(i.l_num)]\n",
    "        #print(u\"Δ_cp =\",delta_cp, end='\\n\\n\\n')  \n",
    "        \n",
    "        # solve primal\n",
    "        time.timeit()\n",
    "        b_data = solve_primal(b_data)\n",
    "        \n",
    "        # solve integer relaxed        \n",
    "        b_data = solve_relaxed(b_data)\n",
    "        \n",
    "        # solve lagrangian dual        \n",
    "        b_data = solve_lagrangian(b_data)        \n",
    "        \n",
    "    return results"
   ]
  },
  {
   "cell_type": "markdown",
   "metadata": {},
   "source": [
    "### Plot results"
   ]
  },
  {
   "cell_type": "code",
   "execution_count": 222,
   "metadata": {
    "ExecuteTime": {
     "end_time": "2018-11-14T19:15:26.431094Z",
     "start_time": "2018-11-14T19:15:25.455328Z"
    },
    "code_folding": [
     28,
     66
    ]
   },
   "outputs": [],
   "source": [
    "sns.set(style=\"whitegrid\", palette=\"Set2\")\n",
    "plt.rcParams['figure.figsize'] = [20, 10]\n",
    "plt.rcParams['xtick.labelsize'] = 10\n",
    "plt.rcParams['ytick.labelsize'] = 10\n",
    "plt.rcParams['font.size'] = 10\n",
    "#cmap = sns.diverging_palette(10, 220, sep=80, n=7, as_cmap=True)\n",
    "cmap = sns.color_palette(\"Set2\")\n",
    "\n",
    "\n",
    "def plot_clients_demand_alloc(benchmark):\n",
    "    fig, (ax1,ax2,ax3) = plt.subplots(1,3,sharey=True)    \n",
    "    fig.suptitle('Clients Demand Allocation', fontsize=20)\n",
    "    ax1.set_title(\"Primal\")\n",
    "    ax1.set_ylabel('Clients')\n",
    "    ax2.set_title(\"Integer relaxed\") \n",
    "    ax3.set_title(\"Lagrange relaxed\")    \n",
    "    \n",
    "    sns.heatmap(benchmark.X_ip,ax=ax1,cbar=False,center=0.5,cmap=cmap,annot=True,fmt=\".1f\",linewidths=0.5)\n",
    "    sns.heatmap(benchmark.X_int,ax=ax2,cbar=False,center=0.5,cmap=cmap,annot=True,fmt=\".1f\",linewidths=0.5)\n",
    "    sns.heatmap(benchmark.X_lag,ax=ax3,cbar=False,center=0.5,cmap=cmap,annot=True,fmt=\".1f\",linewidths=0.5)\n",
    "    \n",
    "    ax1.set_ylabel('client')\n",
    "    ax1.set_xlabel('warehouse')\n",
    "    ax2.set_xlabel('warehouse')\n",
    "    ax3.set_xlabel('warehouse')\n",
    "    plt.show()\n",
    "    \n",
    "    \n",
    "def plot_warehouse_alloc(benchmark):\n",
    "    fig, (ax1,ax2,ax3) = plt.subplots(1,3)    \n",
    "    fig.suptitle('Warehouse Allocation', fontsize=20)\n",
    "    ax1.set_title(\"Primal\")\n",
    "    ax1.set_ylabel('Clients')\n",
    "    ax2.set_title(\"Integer relaxed\") \n",
    "    ax3.set_title(\"Lagrange relaxed\")    \n",
    "    \n",
    "    data = [benchmark.Y_ip, benchmark.Y_int, benchmark.Y_lag]\n",
    "    sns.heatmap([data[0]], ax=ax1, cbar=False, cmap=cmap, annot=True, fmt=\".1f\", linewidths=0.5, xticklabels=False, yticklabels=False)\n",
    "    sns.heatmap([data[1]], ax=ax2, cbar=False, cmap=cmap, annot=True, fmt=\".1f\", linewidths=0.5, xticklabels=False, yticklabels=False)\n",
    "    sns.heatmap([data[2]], ax=ax3, cbar=False, cmap=cmap, annot=True, fmt=\".1f\", linewidths=0.5, xticklabels=False, yticklabels=False)\n",
    "    \n",
    "    ax1.set_xlabel('warehouse')\n",
    "    ax2.set_xlabel('warehouse')\n",
    "    ax3.set_xlabel('warehouse')\n",
    "    plt.show()\n",
    "    \n",
    "    \n",
    "    \n",
    "def plot_subgradient(benchmark): \n",
    "    fig, ax1 = plt.subplots(1)\n",
    "    fig.suptitle('Subgradient Process', fontsize=20)\n",
    "    \n",
    "    ax1.set_ylabel('z value')    \n",
    "    ax1.set_xlabel('iteration')    \n",
    "    \n",
    "    # get data   \n",
    "    subg = np.array(benchmark.SubgradientData['z'])\n",
    "    primal = np.array([benchmark.Z_ip for i in range(len(subg))])\n",
    "    int_rel = np.array([benchmark.Z_int for i in range(len(subg))])\n",
    "    data = [subg, primal]\n",
    "    \n",
    "    # plot\n",
    "    line1 = ax1.plot(subg)\n",
    "    line3 = ax1.plot(int_rel)\n",
    "    line2 = ax1.plot(primal, linewidth=1, linestyle='--')\n",
    "    ax1.legend(('subgradient','integer relaxed','primal'),loc='best')\n",
    "    \n",
    "    plt.show()    \n",
    "    \n",
    "    \n",
    "def sinplot(flip=1):\n",
    "    x = np.linspace(0, 14, 100)\n",
    "    for i in range(1, 7):\n",
    "        plt.plot(x, np.sin(x + i * .5) * (7 - i) * flip)\n",
    "    plt.show()\n",
    "        \n",
    "        \n",
    "def plot_data(results):\n",
    "    for r in results:        \n",
    "        plot_clients_demand_alloc(r)\n",
    "        #plot_warehouse_alloc(r)\n",
    "        plot_subgradient(r)\n",
    "        \n",
    "        \n",
    "#plot_data(Results)"
   ]
  },
  {
   "cell_type": "code",
   "execution_count": 223,
   "metadata": {
    "ExecuteTime": {
     "end_time": "2018-11-14T19:16:02.581115Z",
     "start_time": "2018-11-14T19:15:26.435920Z"
    }
   },
   "outputs": [
    {
     "name": "stdout",
     "output_type": "stream",
     "text": [
      "####################\n",
      "SOLVE PRIMAL\n",
      "Z = 16.0\n",
      "Time = 0.06\n",
      "####################\n",
      "SOLVE INTEGER RELAXED\n",
      "Z = 16.000000000045006\n",
      "Time = 0.08\n",
      "####################\n",
      "SOLVE LAGRANGE DUAL\n",
      "z_best: 32.0\n",
      "z_best: 16.529411764705927\n",
      "z_best: 16.000000000000007\n",
      "Z = 16.000000000000007\n",
      "Time = 3.62\n",
      "####################\n",
      "SOLVE PRIMAL\n",
      "Z = -2.0\n",
      "Time = 0.05\n",
      "####################\n",
      "SOLVE INTEGER RELAXED\n",
      "Z = -1.9999999998609965\n",
      "Time = 0.04\n",
      "####################\n",
      "SOLVE LAGRANGE DUAL\n",
      "z_best: 0.0\n",
      "z_best: -1.9999999999999996\n",
      "Z = -1.9999999999999996\n",
      "Time = 3.6\n",
      "####################\n",
      "SOLVE PRIMAL\n",
      "Z = 7.0\n",
      "Time = 0.05\n",
      "####################\n",
      "SOLVE INTEGER RELAXED\n",
      "Z = 7.000000000116991\n",
      "Time = 0.04\n",
      "####################\n",
      "SOLVE LAGRANGE DUAL\n",
      "z_best: 12.0\n",
      "z_best: 8.419354838709666\n",
      "z_best: 7.499999999999993\n",
      "Z = 7.499999999999993\n",
      "Time = 3.64\n",
      "####################\n",
      "SOLVE PRIMAL\n",
      "Z = 33.0\n",
      "Time = 0.06\n",
      "####################\n",
      "SOLVE INTEGER RELAXED\n",
      "Z = 33.00000000060298\n",
      "Time = 0.06\n",
      "####################\n",
      "SOLVE LAGRANGE DUAL\n",
      "z_best: 71.0\n",
      "z_best: 46.07784431137722\n",
      "z_best: 37.99999999999997\n",
      "Z = 37.99999999999997\n",
      "Time = 7.55\n",
      "####################\n",
      "SOLVE PRIMAL\n",
      "Z = 7.0\n",
      "Time = 0.05\n",
      "####################\n",
      "SOLVE INTEGER RELAXED\n",
      "Z = 7.0000000007599965\n",
      "Time = 0.04\n",
      "####################\n",
      "SOLVE LAGRANGE DUAL\n",
      "z_best: 18.0\n",
      "z_best: 7.4313725490196205\n",
      "Z = 7.4313725490196205\n",
      "Time = 6.5\n",
      "####################\n",
      "SOLVE PRIMAL\n",
      "Z = 18.0\n",
      "Time = 0.05\n",
      "####################\n",
      "SOLVE INTEGER RELAXED\n",
      "Z = 18.00000000076101\n",
      "Time = 0.04\n",
      "####################\n",
      "SOLVE LAGRANGE DUAL\n",
      "z_best: 25.0\n",
      "z_best: 19.07692307692306\n",
      "Z = 19.07692307692306\n",
      "Time = 6.48\n"
     ]
    }
   ],
   "source": [
    "b = bnc.Benchmark()\n",
    "results = runner()"
   ]
  },
  {
   "cell_type": "code",
   "execution_count": 226,
   "metadata": {
    "ExecuteTime": {
     "end_time": "2018-11-14T19:16:58.616541Z",
     "start_time": "2018-11-14T19:16:57.196497Z"
    }
   },
   "outputs": [
    {
     "name": "stdout",
     "output_type": "stream",
     "text": [
      "   dimension  integer_time  relaxed_time  lagrange_time\n",
      "0         40          0.06          0.08           3.62\n",
      "1         40          0.05          0.04           3.60\n",
      "2         40          0.05          0.04           3.64\n",
      "3         90          0.06          0.06           7.55\n",
      "4         90          0.05          0.04           6.50\n",
      "5         90          0.05          0.04           6.48\n"
     ]
    },
    {
     "data": {
      "text/plain": [
       "<matplotlib.legend.Legend at 0x1fc72c18128>"
      ]
     },
     "execution_count": 226,
     "metadata": {},
     "output_type": "execute_result"
    },
    {
     "data": {
      "image/png": "[encoded data removed]",
      "text/plain": [
       "<Figure size 1440x720 with 1 Axes>"
      ]
     },
     "metadata": {},
     "output_type": "display_data"
    }
   ],
   "source": [
    "# plot custom settings\n",
    "plt.style.use('fivethirtyeight')\n",
    "fig, ax = plt.subplots(1)\n",
    "plt.rc('axes', labelsize=16, titlesize=20)\n",
    "plt.rc(('xtick', 'ytick'), labelsize=14)\n",
    "\n",
    "# select data\n",
    "df = b.to_dataframe(results)\n",
    "df_time = df.loc[:,['dimension','integer_time','relaxed_time','lagrange_time']]\n",
    "print(df_time)\n",
    "df_time = df_r.groupby(['dimension'], sort=False).mean()\n",
    "\n",
    "# plot\n",
    "df_time.plot(kind='bar', ax=ax)\n",
    "ax.set_title('Mean compute time')\n",
    "plt.ylabel('Time (seconds)')\n",
    "plt.xlabel('Dimension (variables)')\n",
    "plt.legend()"
   ]
  },
  {
   "cell_type": "code",
   "execution_count": 227,
   "metadata": {
    "ExecuteTime": {
     "end_time": "2018-11-14T19:17:03.739683Z",
     "start_time": "2018-11-14T19:17:02.376184Z"
    }
   },
   "outputs": [
    {
     "name": "stdout",
     "output_type": "stream",
     "text": [
      "   integer_z                                               sg_z\n",
      "0       16.0  [32.0, 16.529411764705927, 16.000000000000007,...\n",
      "1       -2.0  [0.0, -1.9999999999999996, -1.9999999999999998...\n",
      "2        7.0  [12.0, 8.419354838709666, 7.499999999999993, 7...\n",
      "3       33.0  [71.0, 46.07784431137722, 37.99999999999997, 3...\n",
      "4        7.0  [18.0, 7.4313725490196205, 7.4313725490196205,...\n",
      "5       18.0  [25.0, 19.07692307692306, 19.07692307692306, 1...\n"
     ]
    },
    {
     "data": {
      "text/plain": [
       "<matplotlib.legend.Legend at 0x1fc772e3588>"
      ]
     },
     "execution_count": 227,
     "metadata": {},
     "output_type": "execute_result"
    },
    {
     "data": {
      "image/png": "[encoded data removed]",
      "text/plain": [
       "<Figure size 1440x720 with 1 Axes>"
      ]
     },
     "metadata": {},
     "output_type": "display_data"
    }
   ],
   "source": [
    "# select data\n",
    "df = b.to_dataframe(results)\n",
    "df_sg = df.loc[:,['integer_z','sg_z']]\n",
    "print(df_sg)\n",
    "\n",
    "y_data = df_sg.values;\n",
    "\n",
    "# plot\n",
    "plt.style.use('fivethirtyeight')\n",
    "fig, ax = plt.subplots(1)\n",
    "plt.rc('axes', labelsize=16, titlesize=20)\n",
    "plt.rc(('xtick', 'ytick'), labelsize=14)\n",
    "\n",
    "ax.set_title('Subgradient algorithm')\n",
    "plt.ylabel('Z value')\n",
    "plt.xlabel('Iterations')\n",
    "\n",
    "for idx, val in enumerate(y_data):\n",
    "    p = plt.plot(val[1], label='run_{}'.format(idx))\n",
    "    plt.axhline(val[0],color=p[0].get_color(), ls='--')\n",
    "plt.legend()"
   ]
  }
 ],
 "metadata": {
  "kernelspec": {
   "display_name": "Python 3",
   "language": "python",
   "name": "python3"
  },
  "language_info": {
   "codemirror_mode": {
    "name": "ipython",
    "version": 3
   },
   "file_extension": ".py",
   "mimetype": "text/x-python",
   "name": "python",
   "nbconvert_exporter": "python",
   "pygments_lexer": "ipython3",
   "version": "3.6.6"
  },
  "toc": {
   "base_numbering": 1,
   "nav_menu": {},
   "number_sections": true,
   "sideBar": true,
   "skip_h1_title": false,
   "title_cell": "Table of Contents",
   "title_sidebar": "Contents",
   "toc_cell": false,
   "toc_position": {},
   "toc_section_display": true,
   "toc_window_display": false
  }
 },
 "nbformat": 4,
 "nbformat_minor": 2
}
